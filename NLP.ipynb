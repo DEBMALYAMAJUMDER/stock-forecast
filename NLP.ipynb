{
  "nbformat": 4,
  "nbformat_minor": 0,
  "metadata": {
    "colab": {
      "name": "NLP.ipynb",
      "provenance": [],
      "authorship_tag": "ABX9TyMo1Ren+Ibdk+a76sIJ3cOS",
      "include_colab_link": true
    },
    "kernelspec": {
      "name": "python3",
      "display_name": "Python 3"
    },
    "language_info": {
      "name": "python"
    }
  },
  "cells": [
    {
      "cell_type": "markdown",
      "metadata": {
        "id": "view-in-github",
        "colab_type": "text"
      },
      "source": [
        "<a href=\"https://colab.research.google.com/github/DEBMALYAMAJUMDER/stock-forecast/blob/main/NLP.ipynb\" target=\"_parent\"><img src=\"https://colab.research.google.com/assets/colab-badge.svg\" alt=\"Open In Colab\"/></a>"
      ]
    },
    {
      "cell_type": "code",
      "execution_count": null,
      "metadata": {
        "id": "eNzqH-tRakN-"
      },
      "outputs": [],
      "source": [
        "pip install polyfuzz"
      ]
    },
    {
      "cell_type": "code",
      "source": [
        "pip install flair"
      ],
      "metadata": {
        "id": "4-BtXEvacOHc"
      },
      "execution_count": null,
      "outputs": []
    },
    {
      "cell_type": "code",
      "source": [
        "import pandas as pd"
      ],
      "metadata": {
        "id": "ma9PWeyHz6o2"
      },
      "execution_count": 13,
      "outputs": []
    },
    {
      "cell_type": "code",
      "source": [
        "df = pd.read_csv('Cat_Tree.csv','/content/Cat_Tree.csv',delimiter=',,',engine='python')"
      ],
      "metadata": {
        "id": "iGHsI7D90DIL"
      },
      "execution_count": 14,
      "outputs": []
    },
    {
      "cell_type": "code",
      "source": [
        "df.head(10)"
      ],
      "metadata": {
        "id": "46aFRzDm0Qok"
      },
      "execution_count": null,
      "outputs": []
    },
    {
      "cell_type": "code",
      "source": [
        "from polyfuzz import PolyFuzz\n",
        "from polyfuzz.models import Embeddings\n",
        "from flair.embeddings import TransformerWordEmbeddings\n"
      ],
      "metadata": {
        "id": "q3RblYvgy7pn"
      },
      "execution_count": 32,
      "outputs": []
    },
    {
      "cell_type": "code",
      "source": [
        "list_1 = list(df['Lazada'])\n",
        "list_2 = list(df['Zalra'][0:680])\n",
        "print(list_2)"
      ],
      "metadata": {
        "colab": {
          "base_uri": "https://localhost:8080/"
        },
        "id": "rfJnOV4uzAaT",
        "outputId": "5764e003-5865-45fd-b404-7d0b28b88010"
      },
      "execution_count": 33,
      "outputs": [
        {
          "output_type": "stream",
          "name": "stdout",
          "text": [
            "['Essentials / Household Essentials', \"Essential Supplies / Women's Essential Supplies\", 'Essentials / Food Essentials / Food & Beverages', 'Essentials / Healthcare Essentials / Healthcare', \"Essential Supplies / Men's Essential Supplies / Health\", \"Clothing / Women's Clothing / Tops\", \"Clothing / Women's Clothing / Dresses\", \"Clothing / Women's Clothing / Shorts\", \"Clothing / Women's Clothing / Skirts\", \"Clothing / Women's Clothing / Playsuits & Jumpsuits\", \"Clothing / Women's Clothing / Pants & Leggings\", \"Clothing / Women's Clothing / Jeans\", \"Clothing / Women's Clothing / Swimwear & Beachwear\", \"Clothing / Women's Clothing / Jackets & Coats\", \"Clothing / Women's Clothing / Knitwear & Cardigans\", \"Clothing / Women's Clothing / Hoodies & Sweatshirts\", \"Clothing / Women's Clothing / Blazers\", \"Clothing / Women's Clothing / Lingerie & Sleepwear\", \"Clothing / Women's Clothing / Socks & Tights\", \"Clothing / Men's Clothing / Shirts\", \"Clothing / Men's Clothing / T-Shirts\", \"Clothing / Men's Clothing / Polos\", \"Clothing / Men's Clothing / Outerwear\", \"Clothing / Men's Clothing / Jeans\", \"Clothing / Men's Clothing / Pants\", \"Clothing / Men's Clothing / Shorts\", \"Clothing / Men's Clothing / Underwear & Loungewear\", \"Clothing / Men's Clothing / Swimwear\", \"Clothing / Men's Clothing / Socks\", \"Clothing / Kid's Clothing / Newborn\", \"Clothing / Kid's Clothing / Bodysuits & One-Piece\", \"Clothing / Kid's Clothing / Tops\", \"Clothing / Kid's Clothing / Shirts & Polos\", \"Clothing / Kid's Clothing / Hoodies & Sweatshirts\", \"Clothing / Kid's Clothing / Cardigans & Knitwear\", \"Clothing / Kid's Clothing / Jackets & Coats\", \"Clothing / Kid's Clothing / Dresses & Jumpsuits\", \"Clothing / Kid's Clothing / Pants & Leggings\", \"Clothing / Kid's Clothing / Jeans\", \"Clothing / Kid's Clothing / Skirts & Skorts\", \"Clothing / Kid's Clothing / Shorts\", \"Clothing / Kid's Clothing / Uniforms\", \"Clothing / Kid's Clothing / Costumes\", \"Clothing / Kid's Clothing / Top & Bottom Sets\", \"Clothing / Kid's Clothing / Swimwear\", \"Clothing / Kid's Clothing / Sleepwear\", \"Clothing / Kid's Clothing / Underwear\", \"Clothing / Kid's Clothing / Socks & Tights\", \"Shoes / Women's Shoes / Flats\", \"Shoes / Women's Shoes / Heels\", \"Shoes / Women's Shoes / Sandals\", \"Shoes / Women's Shoes / Wedges\", \"Shoes / Women's Shoes / Slip-Ons\", \"Shoes / Women's Shoes / Sneakers\", \"Shoes / Women's Shoes / Sports Shoes\", \"Shoes / Women's Shoes / Boots\", \"Shoes / Women's Shoes / Comfort Shoes\", \"Shoes / Women's Shoes / Flip-Flops\", \"Shoes / Women's Shoes / Shoes Accessories\", \"Shoes / Men's Shoes / Sneakers\", \"Shoes / Men's Shoes / Loafers & Boat Shoes\", \"Shoes / Men's Shoes / Formal\", \"Shoes / Men's Shoes / Sports Shoes\", \"Shoes / Men's Shoes / Boots\", \"Shoes / Men's Shoes / Sandals & Flip Flops\", \"Shoes / Men's Shoes / Shoes Accessories\", \"Shoes / Men's Shoes / Slip-Ons\", \"Shoes / Kid's Shoes / Ballerina & Flats\", \"Shoes / Kid's Shoes / Sandals & Flip Flops\", \"Shoes / Kid's Shoes / Sneakers\", \"Shoes / Kid's Shoes / Boots\", \"Shoes / Kid's Shoes / Dress Shoes\", '\"Shoes / Kid\\'s Shoes / Loafers, Moccasins & Boat Shoes\"', \"Shoes / Kid's Shoes / Slip-ons & Espadrilles\", \"Accessories / Women's Accessories / Watches\", \"Accessories / Women's Accessories / Eyewear\", \"Accessories / Women's Accessories / Scarves & Shawls\", \"Accessories / Women's Accessories / Jewelry\", \"Accessories / Women's Accessories / Hair Accessories\", \"Accessories / Women's Accessories / Technology\", \"Accessories / Women's Accessories / Other Accessories\", \"Accessories / Men's Accessories / Watches\", \"Accessories / Men's Accessories / Eyewear\", \"Accessories / Men's Accessories / Belts\", \"Accessories / Men's Accessories / Wallets\", \"Accessories / Men's Accessories / Hats & Caps\", \"Accessories / Men's Accessories / Jewelry\", \"Accessories / Men's Accessories / Ties & Accessories\", \"Accessories / Men's Accessories / Technology\", \"Accessories / Men's Accessories / Scarves & Shawls\", \"Accessories / Kid's Accessories / Bags & Backpacks\", \"Accessories / Kid's Accessories / Wallets & Pouches\", \"Accessories / Kid's Accessories / Headwear\", \"Accessories / Kid's Accessories / Scarves & Gloves\", \"Accessories / Kid's Accessories / Belts & Suspenders\", \"Accessories / Kid's Accessories / Bibs & Napkins\", \"Accessories / Kid's Accessories / Towels & Blankets\", \"Accessories / Kid's Accessories / Baby Carriers\", \"Accessories / Kid's Accessories / Gift Sets\", \"Accessories / Kid's Accessories / Other Accessories\", \"Bags / Women's Bags / Shopper Bags\", \"Bags / Women's Bags / Crossbody Bags\", \"Bags / Women's Bags / Wallets & Purses\", \"Bags / Women's Bags / Handbags\", \"Bags / Women's Bags / Tote Bags\", \"Bags / Women's Bags / Clutches\", \"Bags / Women's Bags / Backpacks\", \"Bags / Women's Bags / Travel Bags\", \"Bags / Women's Bags / Laptop Bags\", \"Bags / Men's Bags / Messenger Bags\", \"Bags / Men's Bags / Duffel Bags\", \"Bags / Men's Bags / Backpacks\", \"Bags / Men's Bags / Laptop Bags\", \"Bags / Men's Bags / Briefcases\", \"Bags / Men's Bags / Tote Bags\", \"Bags / Men's Bags / Travel Bags\", \"Sports / Women's Sports / Shop by Category\", \"Sports / Women's Sports / Shop by Sport Activity\", \"Sports / Men's Sports / Shop by Category\", \"Sports / Men's Sports / Shop by Sport Activity\", \"Sports / Kids' Sports / Tops\", \"Sports / Kids' Sports / Bottoms\", \"Sports / Kids' Sports / Sneakers\", \"Sports / Kids' Sports / Jogger Sets\", \"Sports / Kids' Sports / Sport Accessories\", 'Beauty / Beauty / Make Up', 'Beauty / Beauty / Nails', 'Beauty / Beauty / Skin Care', 'Beauty / Beauty / Fragrances', 'Beauty / Beauty / Bath & Body', 'Beauty / Beauty / Hair Care', 'Beauty / Beauty / Tools & Brushes', 'Beauty / Beauty / Supplements', 'Beauty / Beauty / Wellness', 'Grooming / Grooming / Shaving', 'Grooming / Grooming / Body', 'Grooming / Grooming / Skin Care', 'Grooming / Grooming / Hair Care', 'Grooming / Grooming / Fragrances', 'Grooming / Grooming / Gift Sets', 'Grooming / Grooming / Supplements', 'Grooming / Grooming / Wellness', 'Essentials / Food Essentials / Food & Beverages / Snack Food', 'Essentials / Healthcare Essentials / Healthcare / Hand Sanitiser', 'Essentials / Healthcare Essentials / Healthcare / Femine Hygiene', 'Essentials / Healthcare Essentials / Healthcare / Face Mask', 'Essentials / Healthcare Essentials / Healthcare / Oral Hygiene', 'Essentials / Healthcare Essentials / Healthcare / Personal Care', 'Essentials / Healthcare Essentials / Healthcare / Health Supplements', 'Essentials / Healthcare Essentials / Healthcare / Pharmacy', \"Essential Supplies / Men's Essential Supplies / Health / Hand Sanitiser\", \"Clothing / Women's Clothing / Tops / Shirts\", \"Clothing / Women's Clothing / Tops / Blouses\", \"Clothing / Women's Clothing / Tops / T-Shirts\", \"Clothing / Women's Clothing / Tops / Sleeveless\", \"Clothing / Women's Clothing / Dresses / Summer Dresses\", \"Clothing / Women's Clothing / Dresses / Party Dresses\", \"Clothing / Women's Clothing / Dresses / Work Dresses\", \"Clothing / Women's Clothing / Dresses / Mini Dresses\", \"Clothing / Women's Clothing / Dresses / Maxi Dresses\", \"Clothing / Women's Clothing / Dresses / Evening Dresses\", \"Clothing / Women's Clothing / Shorts / Tailored Shorts\", \"Clothing / Women's Clothing / Shorts / Casual Shorts\", \"Clothing / Women's Clothing / Skirts / Pencil Skirts\", \"Clothing / Women's Clothing / Skirts / Midi Skirts\", \"Clothing / Women's Clothing / Skirts / Mini Skirts\", \"Clothing / Women's Clothing / Skirts / Maxi Skirts\", \"Clothing / Women's Clothing / Pants & Leggings / Skinny Pants\", \"Clothing / Women's Clothing / Pants & Leggings / Straight Leg Pants\", \"Clothing / Women's Clothing / Pants & Leggings / Wide-legged Pants\", \"Clothing / Women's Clothing / Pants & Leggings / Leggings\", \"Clothing / Women's Clothing / Pants & Leggings / Cropped Pants\", \"Clothing / Women's Clothing / Jeans / Skinny Jeans\", \"Clothing / Women's Clothing / Jeans / Ripped Jeans\", \"Clothing / Women's Clothing / Jeans / Flare Jeans\", \"Clothing / Women's Clothing / Swimwear & Beachwear / Bikinis\", \"Clothing / Women's Clothing / Swimwear & Beachwear / Swimsuits\", \"Clothing / Women's Clothing / Jackets & Coats / Coats\", \"Clothing / Women's Clothing / Jackets & Coats / Trench Coats\", \"Clothing / Women's Clothing / Jackets & Coats / Down Jackets\", \"Clothing / Women's Clothing / Jackets & Coats / Leather Jackets\", \"Clothing / Women's Clothing / Jackets & Coats / Bomber Jackets\", \"Clothing / Women's Clothing / Jackets & Coats / Denim Jackets\", \"Clothing / Women's Clothing / Jackets & Coats / Vests\", \"Clothing / Women's Clothing / Lingerie & Sleepwear / Sleepwear\", \"Clothing / Women's Clothing / Lingerie & Sleepwear / Lingerie\", \"Clothing / Men's Clothing / Shirts / Short Sleeve\", \"Clothing / Men's Clothing / Shirts / Long Sleeve\", \"Clothing / Men's Clothing / Shirts / Formal\", \"Clothing / Men's Clothing / Shirts / Printed\", \"Clothing / Men's Clothing / Shirts / Plain\", \"Clothing / Men's Clothing / Shirts / Denim\", \"Clothing / Men's Clothing / Shirts / Checkered\", \"Clothing / Men's Clothing / Shirts / Batik\", \"Clothing / Men's Clothing / T-Shirts / Long Sleeves\", \"Clothing / Men's Clothing / T-Shirts / Short Sleeves\", \"Clothing / Men's Clothing / T-Shirts / Singlets\", \"Clothing / Men's Clothing / T-Shirts / Plain\", \"Clothing / Men's Clothing / T-Shirts / Graphic\", \"Clothing / Men's Clothing / T-Shirts / Striped\", \"Clothing / Men's Clothing / Outerwear / Hoodies & Sweatshirts\", \"Clothing / Men's Clothing / Outerwear / Knitwear & Cardigans\", \"Clothing / Men's Clothing / Outerwear / Jackets & Coats\", \"Clothing / Men's Clothing / Outerwear / Blazers & Suits\", \"Clothing / Men's Clothing / Jeans / Skinny\", \"Clothing / Men's Clothing / Jeans / Slim\", \"Clothing / Men's Clothing / Jeans / Regular\", \"Clothing / Men's Clothing / Pants / Casual\", \"Clothing / Men's Clothing / Pants / Formal\", \"Clothing / Men's Clothing / Pants / Skinny Fit\", \"Clothing / Men's Clothing / Pants / Slim Fit\", \"Clothing / Men's Clothing / Pants / Regular Fit\", \"Clothing / Men's Clothing / Shorts / Cargo\", \"Clothing / Men's Clothing / Shorts / Sport\", \"Clothing / Men's Clothing / Shorts / Denim\", \"Clothing / Men's Clothing / Shorts / Chinos\", \"Clothing / Men's Clothing / Underwear & Loungewear / Underwear\", \"Clothing / Men's Clothing / Underwear & Loungewear / Loungewear\", \"Clothing / Kid's Clothing / Newborn / Gifts & Bundles\", \"Clothing / Kid's Clothing / Newborn / Organics\", \"Clothing / Kid's Clothing / Tops / Blouses\", \"Clothing / Kid's Clothing / Tops / T-Shirts\", \"Clothing / Kid's Clothing / Tops / Long Sleeves\", \"Clothing / Kid's Clothing / Shirts & Polos / Shirts\", \"Clothing / Kid's Clothing / Shirts & Polos / Polos\", \"Clothing / Kid's Clothing / Hoodies & Sweatshirts / Hoodies\", \"Clothing / Kid's Clothing / Hoodies & Sweatshirts / Sweatshirts\", \"Clothing / Kid's Clothing / Cardigans & Knitwear / Cardigans\", \"Clothing / Kid's Clothing / Cardigans & Knitwear / Knitwear\", \"Clothing / Kid's Clothing / Jackets & Coats / Jackets\", \"Clothing / Kid's Clothing / Jackets & Coats / Winter Wear\", \"Clothing / Kid's Clothing / Jackets & Coats / Rain Coats\", \"Clothing / Kid's Clothing / Dresses & Jumpsuits / Casual Dresses\", \"Clothing / Kid's Clothing / Dresses & Jumpsuits / Occasion Dresses\", \"Clothing / Kid's Clothing / Dresses & Jumpsuits / Jumpsuits & Playsuits\", \"Clothing / Kid's Clothing / Pants & Leggings / Long Pants\", \"Clothing / Kid's Clothing / Pants & Leggings / Leggings\", \"Clothing / Kid's Clothing / Sleepwear / Pyjamas\", \"Clothing / Kid's Clothing / Sleepwear / Bath Robes\", \"Clothing / Kid's Clothing / Sleepwear / One-piece\", \"Clothing / Kid's Clothing / Socks & Tights / Socks\", \"Clothing / Kid's Clothing / Socks & Tights / Tights\", \"Clothing / Kid's Clothing / Socks & Tights / Mittens & Booties\", \"Shoes / Women's Shoes / Flats / Espadrilles\", \"Shoes / Women's Shoes / Flats / Ballerinas\", \"Shoes / Women's Shoes / Flats / Peep Toes\", \"Shoes / Women's Shoes / Flats / Loafers & Boat Shoes\", \"Shoes / Women's Shoes / Flats / Oxford & Lace Up\", \"Shoes / Women's Shoes / Heels / Open Toes\", \"Shoes / Women's Shoes / Heels / Pumps\", \"Shoes / Women's Shoes / Heels / Platforms\", \"Shoes / Women's Shoes / Heels / Low Heels\", \"Shoes / Women's Shoes / Heels / Mid Heels\", \"Shoes / Women's Shoes / Heels / High Heels\", \"Shoes / Women's Shoes / Sandals / Flat Sandals\", \"Shoes / Women's Shoes / Sandals / Espadrilles\", \"Shoes / Women's Shoes / Wedges / Open Toes Wedges\", \"Shoes / Women's Shoes / Wedges / Wedge Sandals\", \"Shoes / Women's Shoes / Wedges / Wedge Pumps\", \"Shoes / Women's Shoes / Boots / Flat Boots\", \"Shoes / Women's Shoes / Boots / Heeled Boots\", \"Shoes / Women's Shoes / Boots / Long Boots\", \"Shoes / Women's Shoes / Boots / Ankle Boots\", \"Shoes / Men's Shoes / Sandals & Flip Flops / Flip Flops\", \"Shoes / Men's Shoes / Sandals & Flip Flops / Sandals\", \"Accessories / Women's Accessories / Watches / Analog Watches\", \"Accessories / Women's Accessories / Watches / Chronograph Watches\", \"Accessories / Women's Accessories / Watches / Digital Watches\", \"Accessories / Women's Accessories / Watches / Fashion Watches\", \"Accessories / Women's Accessories / Watches / Smart Watches\", \"Accessories / Women's Accessories / Watches / Sports Watches\", \"Accessories / Women's Accessories / Watches / Luxury Watches\", \"Accessories / Women's Accessories / Watches / Casual Watches\", \"Accessories / Women's Accessories / Watches / Shop by Strap\", \"Accessories / Women's Accessories / Eyewear / Sunglasses\", \"Accessories / Women's Accessories / Eyewear / Glasses\", \"Accessories / Women's Accessories / Scarves & Shawls / Scarves\", \"Accessories / Women's Accessories / Jewelry / Pendant\", \"Accessories / Women's Accessories / Jewelry / Charms\", \"Accessories / Women's Accessories / Jewelry / Earrings\", \"Accessories / Women's Accessories / Jewelry / Necklaces\", \"Accessories / Women's Accessories / Jewelry / Bracelets & Bangles\", \"Accessories / Women's Accessories / Jewelry / Pins & Brooches\", \"Accessories / Women's Accessories / Jewelry / Rings\", \"Accessories / Women's Accessories / Hair Accessories / Fascinators\", \"Accessories / Women's Accessories / Hair Accessories / Bows\", \"Accessories / Women's Accessories / Hair Accessories / Head Bands\", \"Accessories / Women's Accessories / Hair Accessories / Hair Clips\", \"Accessories / Women's Accessories / Hair Accessories / Hair Ties\", \"Accessories / Women's Accessories / Technology / Gadgets & Accessories\", \"Accessories / Women's Accessories / Technology / Laptop Bags & Sleeves\", \"Accessories / Women's Accessories / Technology / Headphones & Headsets\", \"Accessories / Women's Accessories / Technology / Phone & Tablet Cases\", \"Accessories / Women's Accessories / Other Accessories / Hats & Caps\", \"Accessories / Women's Accessories / Other Accessories / Gloves\", \"Accessories / Women's Accessories / Other Accessories / Belts\", \"Accessories / Men's Accessories / Watches / Analog Watches\", \"Accessories / Men's Accessories / Watches / Chronograph Watches\", \"Accessories / Men's Accessories / Watches / Digital Watches\", \"Accessories / Men's Accessories / Watches / Smart Watches\", \"Accessories / Men's Accessories / Watches / Sports Watches\", \"Accessories / Men's Accessories / Watches / Casual Watches\", \"Accessories / Men's Accessories / Watches / Dress Watches\", \"Accessories / Men's Accessories / Watches / Shop by Strap\", \"Accessories / Men's Accessories / Eyewear / Glasses\", \"Accessories / Men's Accessories / Eyewear / Sunglasses\", \"Accessories / Men's Accessories / Belts / Canvas\", \"Accessories / Men's Accessories / Belts / Non Leather\", \"Accessories / Men's Accessories / Belts / Leather\", \"Accessories / Men's Accessories / Wallets / Non-Leather Wallets\", \"Accessories / Men's Accessories / Wallets / Leather Wallets\", \"Accessories / Men's Accessories / Wallets / Billfolds & Money Clips\", \"Accessories / Men's Accessories / Wallets / Card Holders\", \"Accessories / Men's Accessories / Hats & Caps / Beanies\", \"Accessories / Men's Accessories / Hats & Caps / Hats\", \"Accessories / Men's Accessories / Hats & Caps / Caps\", \"Accessories / Men's Accessories / Jewelry / Necklaces\", \"Accessories / Men's Accessories / Jewelry / Bracelets\", \"Accessories / Men's Accessories / Jewelry / Rings\", \"Accessories / Men's Accessories / Ties & Accessories / Ties\", \"Accessories / Men's Accessories / Ties & Accessories / Bow Ties\", \"Accessories / Men's Accessories / Ties & Accessories / Cufflinks & Tie Clips\", \"Accessories / Men's Accessories / Technology / Gadgets & Accessories\", \"Accessories / Men's Accessories / Technology / Phone & Tablet Cases\", \"Accessories / Men's Accessories / Technology / Laptop Bags & Sleeves\", \"Accessories / Men's Accessories / Technology / Headphones & Headsets\", \"Accessories / Kid's Accessories / Bags & Backpacks / Backpack\", \"Accessories / Kid's Accessories / Bags & Backpacks / Fashion Bags\", \"Accessories / Kid's Accessories / Bags & Backpacks / Travel Bags\", \"Accessories / Kid's Accessories / Bags & Backpacks / Lunch Bags\", \"Accessories / Kid's Accessories / Bags & Backpacks / Diaper Bags\", \"Accessories / Kid's Accessories / Headwear / Hats\", \"Accessories / Kid's Accessories / Headwear / Caps\", \"Accessories / Kid's Accessories / Headwear / Headbands\", \"Accessories / Kid's Accessories / Scarves & Gloves / Scarves\", \"Accessories / Kid's Accessories / Scarves & Gloves / Mittens & Gloves\", \"Accessories / Kid's Accessories / Belts & Suspenders / Belts\", \"Accessories / Kid's Accessories / Belts & Suspenders / Suspenders\", \"Accessories / Kid's Accessories / Bibs & Napkins / Bibs\", \"Accessories / Kid's Accessories / Bibs & Napkins / Napkins\", \"Accessories / Kid's Accessories / Towels & Blankets / Swaddling Blankets\", \"Accessories / Kid's Accessories / Towels & Blankets / Sleeping Bags\", \"Accessories / Kid's Accessories / Towels & Blankets / Towels\", \"Accessories / Kid's Accessories / Baby Carriers / Baby Carriers\", \"Accessories / Kid's Accessories / Baby Carriers / Baby Wraps\", \"Accessories / Kid's Accessories / Other Accessories / Toys\", \"Accessories / Kid's Accessories / Other Accessories / Shampoo & Bodywash\", \"Accessories / Kid's Accessories / Other Accessories / Bath Sets\", \"Bags / Women's Bags / Wallets & Purses / Wallets\", \"Bags / Women's Bags / Wallets & Purses / Bag Accessories\", \"Bags / Women's Bags / Wallets & Purses / Purses\", \"Bags / Women's Bags / Travel Bags / Belt Bags\", \"Bags / Women's Bags / Travel Bags / Hand Luggage\", \"Bags / Women's Bags / Travel Bags / Travel Accessories\", \"Bags / Women's Bags / Travel Bags / Weekender\", \"Bags / Women's Bags / Travel Bags / Wheeled Luggage\", \"Bags / Men's Bags / Backpacks / Plain Backpacks\", \"Bags / Men's Bags / Backpacks / Printed Backpacks\", \"Bags / Men's Bags / Travel Bags / Hand Luggage\", \"Bags / Men's Bags / Travel Bags / Travel Backpacks\", \"Bags / Men's Bags / Travel Bags / Wheeled Luggage\", \"Bags / Men's Bags / Travel Bags / Travel Accessories\", \"Bags / Men's Bags / Travel Bags / Belt Bags\", \"Sports / Women's Sports / Shop by Category / Clothing\", \"Sports / Women's Sports / Shop by Category / Footwear\", \"Sports / Women's Sports / Shop by Category / Accessories\", \"Sports / Women's Sports / Shop by Category / Bags & Backpacks\", \"Sports / Women's Sports / Shop by Sport Activity / Lifestyle\", \"Sports / Women's Sports / Shop by Sport Activity / Swim & Beachwear\", \"Sports / Women's Sports / Shop by Sport Activity / Running\", \"Sports / Women's Sports / Shop by Sport Activity / Training\", \"Sports / Women's Sports / Shop by Sport Activity / Yoga\", \"Sports / Women's Sports / Shop by Sport Activity / Outdoors\", \"Sports / Men's Sports / Shop by Category / Footwear\", \"Sports / Men's Sports / Shop by Category / Clothing\", \"Sports / Men's Sports / Shop by Category / Accessories\", \"Sports / Men's Sports / Shop by Category / Bags & Backpacks\", \"Sports / Men's Sports / Shop by Sport Activity / Running\", \"Sports / Men's Sports / Shop by Sport Activity / Training\", \"Sports / Men's Sports / Shop by Sport Activity / Lifestyle\", \"Sports / Men's Sports / Shop by Sport Activity / Swim & Beachwear\", \"Sports / Men's Sports / Shop by Sport Activity / Team Sports\", \"Sports / Men's Sports / Shop by Sport Activity / Outdoor\", 'Beauty / Beauty / Make Up / Face', 'Beauty / Beauty / Make Up / Eyes', 'Beauty / Beauty / Make Up / Lips', 'Beauty / Beauty / Make Up / Palettes & Sets', 'Beauty / Beauty / Nails / Nail Effects', 'Beauty / Beauty / Nails / Nail Care & Tools', 'Beauty / Beauty / Nails / Nail Polish', 'Beauty / Beauty / Skin Care / Cleanse & Tone', 'Beauty / Beauty / Skin Care / Moisturize', 'Beauty / Beauty / Skin Care / Treatments', 'Beauty / Beauty / Skin Care / Skin Care Sets', 'Beauty / Beauty / Skin Care / Sun Care', 'Beauty / Beauty / Skin Care / Dermacare', 'Beauty / Beauty / Bath & Body / Body Wash & Soaps', 'Beauty / Beauty / Bath & Body / Body Lotions', 'Beauty / Beauty / Bath & Body / Body Treatments', 'Beauty / Beauty / Bath & Body / Hand & Foot Care', 'Beauty / Beauty / Bath & Body / Gift Sets', 'Beauty / Beauty / Hair Care / Shampoo & Conditioner', 'Beauty / Beauty / Hair Care / Hair Treatment & Repair', 'Beauty / Beauty / Hair Care / Styling', 'Beauty / Beauty / Hair Care / Hair Care Sets', 'Beauty / Beauty / Tools & Brushes / Brushes', 'Beauty / Beauty / Tools & Brushes / Tools', 'Beauty / Beauty / Tools & Brushes / Cosmetic Bags & Cases', 'Grooming / Grooming / Shaving / Pre-Shaving', 'Grooming / Grooming / Shaving / Shaving Tools', 'Grooming / Grooming / Shaving / Post-Shaving', 'Grooming / Grooming / Body / Bath & Shower', 'Grooming / Grooming / Body / Body Lotion & Treatments', 'Grooming / Grooming / Skin Care / Eye Cream', 'Grooming / Grooming / Skin Care / Moisturizer and Treatments', 'Grooming / Grooming / Skin Care / Cleansers', 'Grooming / Grooming / Hair Care / Shampoos & Conditioners', 'Grooming / Grooming / Hair Care / Styling', 'Essentials / Food Essentials / Food & Beverages / Snack Food / Crisps / Chips', 'Essentials / Healthcare Essentials / Healthcare / Femine Hygiene / Sanitary Pads', 'Essentials / Healthcare Essentials / Healthcare / Femine Hygiene / Tampons', 'Essentials / Healthcare Essentials / Healthcare / Femine Hygiene / Menstrual Cups', 'Essentials / Healthcare Essentials / Healthcare / Face Mask / Surgical Mask', 'Essentials / Healthcare Essentials / Healthcare / Face Mask / Cotton Mask', 'Essentials / Healthcare Essentials / Healthcare / Oral Hygiene / Dental Flosser', 'Essentials / Healthcare Essentials / Healthcare / Oral Hygiene / Mouthwash', 'Essentials / Healthcare Essentials / Healthcare / Oral Hygiene / Toothbrush', 'Essentials / Healthcare Essentials / Healthcare / Oral Hygiene / Toothpaste', 'Essentials / Healthcare Essentials / Healthcare / Personal Care / Hand and Body Wash', 'Essentials / Healthcare Essentials / Healthcare / Personal Care / Hand and Body Lotion', 'Essentials / Healthcare Essentials / Healthcare / Personal Care / Hair Care', 'Essentials / Healthcare Essentials / Healthcare / Personal Care / Essential Oils', 'Essentials / Healthcare Essentials / Healthcare / Personal Care / Diapers', 'Essentials / Healthcare Essentials / Healthcare / Personal Care / Cotton Products', 'Essentials / Healthcare Essentials / Healthcare / Personal Care / Tissues and Wipes', 'Essentials / Healthcare Essentials / Healthcare / Personal Care / Deodorants and Antiperspirants', 'Essentials / Healthcare Essentials / Healthcare / Personal Care / Optical Care', 'Essentials / Healthcare Essentials / Healthcare / Personal Care / Insect Repellent', 'Essentials / Healthcare Essentials / Healthcare / Personal Care / Hair Removal', 'Essentials / Healthcare Essentials / Healthcare / Pharmacy / OTC Medicine', 'Essentials / Healthcare Essentials / Healthcare / Pharmacy / First Aid', 'Essentials / Healthcare Essentials / Healthcare / Pharmacy / Diabetic Care', 'Essentials / Healthcare Essentials / Healthcare / Pharmacy / Detox & Digestive Health', 'Essentials / Healthcare Essentials / Healthcare / Pharmacy / Bone & Joint Health', 'Essentials / Healthcare Essentials / Healthcare / Pharmacy / Medical Equipment', 'Essentials / Healthcare Essentials / Healthcare / Pharmacy / Herbs & Homeopathics', 'Essentials / Healthcare Essentials / Healthcare / Pharmacy / Rehab Support', 'Essentials / Healthcare Essentials / Healthcare / Pharmacy / Family Planning', 'Essentials / Healthcare Essentials / Healthcare / Pharmacy / Thermometer', \"Clothing / Women's Clothing / Lingerie & Sleepwear / Sleepwear / Sleep Tops\", \"Clothing / Women's Clothing / Lingerie & Sleepwear / Sleepwear / Sleep Bottoms\", '\"Clothing / Women\\'s Clothing / Lingerie & Sleepwear / Sleepwear / Nighties, Slips & Teddies\"', \"Clothing / Women's Clothing / Lingerie & Sleepwear / Sleepwear / Robes\", \"Clothing / Women's Clothing / Lingerie & Sleepwear / Sleepwear / Pajama Sets\", \"Clothing / Women's Clothing / Lingerie & Sleepwear / Lingerie / Bras\", \"Clothing / Women's Clothing / Lingerie & Sleepwear / Lingerie / Panties\", \"Clothing / Women's Clothing / Lingerie & Sleepwear / Lingerie / Mix & Match\", \"Clothing / Women's Clothing / Lingerie & Sleepwear / Lingerie / Shapewear\", \"Clothing / Women's Clothing / Lingerie & Sleepwear / Lingerie / Bodies & Corsets\", \"Clothing / Men's Clothing / Shirts / Short Sleeve / Denim\", \"Clothing / Men's Clothing / Shirts / Short Sleeve / Checkered\", \"Clothing / Men's Clothing / Shirts / Short Sleeve / Formal\", \"Clothing / Men's Clothing / Shirts / Short Sleeve / Plain\", \"Clothing / Men's Clothing / Shirts / Short Sleeve / Printed\", \"Clothing / Men's Clothing / Shirts / Short Sleeve / Batik\", \"Clothing / Men's Clothing / Shirts / Long Sleeve / Batik\", \"Clothing / Men's Clothing / Shirts / Long Sleeve / Denim\", \"Clothing / Men's Clothing / Shirts / Long Sleeve / Checkered\", \"Clothing / Men's Clothing / Shirts / Long Sleeve / Formal\", \"Clothing / Men's Clothing / Shirts / Long Sleeve / Plain\", \"Clothing / Men's Clothing / Shirts / Long Sleeve / Printed\", \"Clothing / Men's Clothing / T-Shirts / Short Sleeves / Plain\", \"Clothing / Men's Clothing / T-Shirts / Short Sleeves / Striped\", \"Clothing / Men's Clothing / T-Shirts / Short Sleeves / Graphic\", \"Clothing / Men's Clothing / Outerwear / Hoodies & Sweatshirts / Sweatshirts\", \"Clothing / Men's Clothing / Outerwear / Hoodies & Sweatshirts / Hoodies\", \"Clothing / Men's Clothing / Outerwear / Knitwear & Cardigans / Cardigans\", \"Clothing / Men's Clothing / Outerwear / Knitwear & Cardigans / Knitwear\", \"Clothing / Men's Clothing / Outerwear / Jackets & Coats / Coats\", \"Clothing / Men's Clothing / Outerwear / Jackets & Coats / Leather Jackets\", \"Clothing / Men's Clothing / Outerwear / Jackets & Coats / Denim Jackets\", \"Clothing / Men's Clothing / Outerwear / Jackets & Coats / Light Jackets\", \"Clothing / Men's Clothing / Outerwear / Jackets & Coats / Winter Jackets\", \"Clothing / Men's Clothing / Outerwear / Blazers & Suits / Vest\", \"Clothing / Men's Clothing / Outerwear / Blazers & Suits / Suit Jacket\", \"Clothing / Men's Clothing / Outerwear / Blazers & Suits / Blazers\", \"Clothing / Men's Clothing / Underwear & Loungewear / Underwear / Briefs\", \"Clothing / Men's Clothing / Underwear & Loungewear / Underwear / Boxers\", \"Clothing / Men's Clothing / Underwear & Loungewear / Underwear / Undershirts\", \"Clothing / Men's Clothing / Underwear & Loungewear / Underwear / Multipacks\", \"Clothing / Men's Clothing / Underwear & Loungewear / Loungewear / Bottoms\", \"Clothing / Men's Clothing / Underwear & Loungewear / Loungewear / Tops\", \"Accessories / Women's Accessories / Watches / Shop by Strap / Other Strap Watches\", \"Accessories / Women's Accessories / Watches / Shop by Strap / Leather Strap Watches\", \"Accessories / Women's Accessories / Watches / Shop by Strap / Metal Strap Watches\", \"Accessories / Women's Accessories / Eyewear / Sunglasses / Cat Eye\", \"Accessories / Women's Accessories / Eyewear / Sunglasses / Aviator\", \"Accessories / Women's Accessories / Eyewear / Sunglasses / Round\", \"Accessories / Women's Accessories / Eyewear / Sunglasses / Squared\", \"Accessories / Women's Accessories / Eyewear / Sunglasses / Oversized\", \"Accessories / Women's Accessories / Jewelry / Earrings / Hoop\", \"Accessories / Women's Accessories / Jewelry / Earrings / Others\", \"Accessories / Women's Accessories / Other Accessories / Hats & Caps / Beanies\", \"Accessories / Women's Accessories / Other Accessories / Hats & Caps / Caps\", \"Accessories / Women's Accessories / Other Accessories / Hats & Caps / Hats\", \"Accessories / Men's Accessories / Watches / Shop by Strap / Other Strap Watches\", \"Accessories / Men's Accessories / Watches / Shop by Strap / Leather Strap Watches\", \"Accessories / Men's Accessories / Watches / Shop by Strap / Metal Strap Watches\", \"Accessories / Men's Accessories / Eyewear / Sunglasses / Sports\", \"Accessories / Men's Accessories / Eyewear / Sunglasses / Polarized\", \"Accessories / Men's Accessories / Eyewear / Sunglasses / Aviator\", \"Accessories / Men's Accessories / Eyewear / Sunglasses / Round\", \"Accessories / Men's Accessories / Eyewear / Sunglasses / Squared\", \"Sports / Women's Sports / Shop by Category / Clothing / Tops\", \"Sports / Women's Sports / Shop by Category / Clothing / Bottoms\", \"Sports / Women's Sports / Shop by Category / Clothing / Outerwear\", \"Sports / Women's Sports / Shop by Category / Footwear / Sneakers\", \"Sports / Women's Sports / Shop by Category / Footwear / Running\", \"Sports / Women's Sports / Shop by Category / Footwear / Training and Fitness\", \"Sports / Women's Sports / Shop by Category / Footwear / Lifestyle\", \"Sports / Women's Sports / Shop by Category / Footwear / Motorsports\", \"Sports / Women's Sports / Shop by Category / Footwear / Sandals & Flip-flops\", \"Sports / Women's Sports / Shop by Category / Accessories / Water Bottles\", \"Sports / Women's Sports / Shop by Category / Accessories / Socks\", \"Sports / Women's Sports / Shop by Category / Accessories / Belts\", \"Sports / Women's Sports / Shop by Category / Accessories / Caps\", \"Sports / Women's Sports / Shop by Category / Accessories / Boxing & MMA Equipment\", \"Sports / Women's Sports / Shop by Category / Accessories / Others\", \"Sports / Women's Sports / Shop by Category / Bags & Backpacks / Backpacks\", \"Sports / Women's Sports / Shop by Category / Bags & Backpacks / Messengers\", \"Sports / Women's Sports / Shop by Category / Bags & Backpacks / Waistpouches\", \"Sports / Women's Sports / Shop by Category / Bags & Backpacks / Shoebags\", \"Sports / Women's Sports / Shop by Category / Bags & Backpacks / Totes\", \"Sports / Women's Sports / Shop by Category / Bags & Backpacks / Duffle Bags\", \"Sports / Women's Sports / Shop by Category / Bags & Backpacks / Others\", \"Sports / Women's Sports / Shop by Sport Activity / Lifestyle / Clothing\", \"Sports / Women's Sports / Shop by Sport Activity / Lifestyle / Shoes\", \"Sports / Women's Sports / Shop by Sport Activity / Swim & Beachwear / Sandals & Flip-Flops\", \"Sports / Women's Sports / Shop by Sport Activity / Swim & Beachwear / Swimwear\", \"Sports / Women's Sports / Shop by Sport Activity / Swim & Beachwear / One Piece\", \"Sports / Women's Sports / Shop by Sport Activity / Swim & Beachwear / Bikinis\", \"Sports / Women's Sports / Shop by Sport Activity / Swim & Beachwear / Rashguards\", \"Sports / Women's Sports / Shop by Sport Activity / Running / Clothing\", \"Sports / Women's Sports / Shop by Sport Activity / Running / Footwear\", \"Sports / Women's Sports / Shop by Sport Activity / Running / Accessories\", \"Sports / Women's Sports / Shop by Sport Activity / Training / Clothing\", \"Sports / Women's Sports / Shop by Sport Activity / Training / Footwear\", \"Sports / Women's Sports / Shop by Sport Activity / Outdoors / Clothing\", \"Sports / Men's Sports / Shop by Category / Footwear / Running\", \"Sports / Men's Sports / Shop by Category / Footwear / Training and Fitness\", \"Sports / Men's Sports / Shop by Category / Footwear / Sandals & Flip-Flops\", \"Sports / Men's Sports / Shop by Category / Footwear / Sneakers\", \"Sports / Men's Sports / Shop by Category / Footwear / Others\", \"Sports / Men's Sports / Shop by Category / Clothing / Tops\", \"Sports / Men's Sports / Shop by Category / Clothing / Bottoms\", \"Sports / Men's Sports / Shop by Category / Clothing / Outerwear\", \"Sports / Men's Sports / Shop by Category / Clothing / Socks\", \"Sports / Men's Sports / Shop by Category / Accessories / Water Bottles\", \"Sports / Men's Sports / Shop by Category / Accessories / Caps\", \"Sports / Men's Sports / Shop by Category / Accessories / Boxing & MMA Equipment\", \"Sports / Men's Sports / Shop by Category / Accessories / Wearable Technologies\", \"Sports / Men's Sports / Shop by Category / Accessories / Others\", \"Sports / Men's Sports / Shop by Category / Bags & Backpacks / Backpacks\", \"Sports / Men's Sports / Shop by Category / Bags & Backpacks / Messengers & Slings\", \"Sports / Men's Sports / Shop by Category / Bags & Backpacks / Waistpouches\", \"Sports / Men's Sports / Shop by Category / Bags & Backpacks / Shoebags\", \"Sports / Men's Sports / Shop by Category / Bags & Backpacks / Duffle Bags\", \"Sports / Men's Sports / Shop by Category / Bags & Backpacks / Others\", \"Sports / Men's Sports / Shop by Sport Activity / Running / Clothing\", \"Sports / Men's Sports / Shop by Sport Activity / Running / Footwear\", \"Sports / Men's Sports / Shop by Sport Activity / Running / Accessories\", \"Sports / Men's Sports / Shop by Sport Activity / Running / Bags & Backpacks\", \"Sports / Men's Sports / Shop by Sport Activity / Training / Clothing\", \"Sports / Men's Sports / Shop by Sport Activity / Training / Footwear\", \"Sports / Men's Sports / Shop by Sport Activity / Training / Accessories\", \"Sports / Men's Sports / Shop by Sport Activity / Training / Bags & Backpacks\", \"Sports / Men's Sports / Shop by Sport Activity / Lifestyle / Clothing\", \"Sports / Men's Sports / Shop by Sport Activity / Lifestyle / Shoes\", \"Sports / Men's Sports / Shop by Sport Activity / Lifestyle / Accessories\", \"Sports / Men's Sports / Shop by Sport Activity / Lifestyle / Bags & Backpacks\", \"Sports / Men's Sports / Shop by Sport Activity / Swim & Beachwear / Bags\", \"Sports / Men's Sports / Shop by Sport Activity / Swim & Beachwear / Sandals & Flip-Flops\", \"Sports / Men's Sports / Shop by Sport Activity / Swim & Beachwear / Accessories\", \"Sports / Men's Sports / Shop by Sport Activity / Swim & Beachwear / Rashguards\", \"Sports / Men's Sports / Shop by Sport Activity / Swim & Beachwear / Boardshorts & Swimshorts\", \"Sports / Men's Sports / Shop by Sport Activity / Swim & Beachwear / Tops\", \"Sports / Men's Sports / Shop by Sport Activity / Team Sports / Basketball\", \"Sports / Men's Sports / Shop by Sport Activity / Team Sports / Football\", \"Sports / Men's Sports / Shop by Sport Activity / Team Sports / Others\", \"Sports / Men's Sports / Shop by Sport Activity / Team Sports / Clothing\", \"Sports / Men's Sports / Shop by Sport Activity / Team Sports / Shoes\", \"Sports / Men's Sports / Shop by Sport Activity / Team Sports / Bags and Accessories\", \"Sports / Men's Sports / Shop by Sport Activity / Outdoor / Clothing\", \"Sports / Men's Sports / Shop by Sport Activity / Outdoor / Accessories\", \"Sports / Men's Sports / Shop by Sport Activity / Outdoor / Shoes\", 'Beauty / Beauty / Make Up / Face / Face 2', 'Beauty / Beauty / Make Up / Face / Foundations', 'Beauty / Beauty / Make Up / Face / BB & CC Creams', 'Beauty / Beauty / Make Up / Face / Concealers', 'Beauty / Beauty / Make Up / Face / Blushers & Bronzers', 'Beauty / Beauty / Make Up / Face / Powders', 'Beauty / Beauty / Make Up / Face / Make Up Removers', 'Beauty / Beauty / Make Up / Eyes / Brows', 'Beauty / Beauty / Make Up / Eyes / Eye Palettes', 'Beauty / Beauty / Make Up / Eyes / Eye Shadows', 'Beauty / Beauty / Make Up / Eyes / Eye Liners', 'Beauty / Beauty / Make Up / Eyes / Mascaras', 'Beauty / Beauty / Make Up / Lips / Lip Balms', 'Beauty / Beauty / Make Up / Lips / Lip Tints', 'Beauty / Beauty / Make Up / Lips / Lip Liners', 'Beauty / Beauty / Make Up / Lips / Lip Glosses', 'Beauty / Beauty / Make Up / Lips / Lipsticks', 'Beauty / Beauty / Tools & Brushes / Brushes / Face', 'Beauty / Beauty / Tools & Brushes / Brushes / Eyes', 'Beauty / Beauty / Tools & Brushes / Brushes / Sets', \"Clothing / Women's Clothing / Lingerie & Sleepwear / Lingerie / Bras / Bras & Bralettes\", \"Clothing / Women's Clothing / Lingerie & Sleepwear / Lingerie / Bras / Bra Accessories\", \"Clothing / Women's Clothing / Lingerie & Sleepwear / Lingerie / Panties / Briefs\", \"Clothing / Women's Clothing / Lingerie & Sleepwear / Lingerie / Panties / Multipacks\", \"Sports / Women's Sports / Shop by Category / Clothing / Tops / T-Shirts\", \"Sports / Women's Sports / Shop by Category / Clothing / Tops / Tanks\", \"Sports / Women's Sports / Shop by Category / Clothing / Tops / Rashguards\", \"Sports / Women's Sports / Shop by Category / Clothing / Bottoms / Shorts\", \"Sports / Women's Sports / Shop by Category / Clothing / Bottoms / Capris & Pants\", \"Sports / Women's Sports / Shop by Category / Clothing / Bottoms / Boardshorts\", \"Sports / Women's Sports / Shop by Sport Activity / Swim & Beachwear / Swimwear / Tops\", \"Sports / Women's Sports / Shop by Sport Activity / Swim & Beachwear / Swimwear / Bottoms\", \"Sports / Women's Sports / Shop by Sport Activity / Running / Clothing / Tops\", \"Sports / Women's Sports / Shop by Sport Activity / Running / Clothing / Bottoms\", \"Sports / Women's Sports / Shop by Sport Activity / Running / Clothing / Sports Bras\", \"Sports / Women's Sports / Shop by Sport Activity / Running / Footwear / Neutral\", \"Sports / Women's Sports / Shop by Sport Activity / Running / Footwear / Stability\", \"Sports / Women's Sports / Shop by Sport Activity / Running / Footwear / Barefoot\", \"Sports / Women's Sports / Shop by Sport Activity / Running / Accessories / Water Bottles\", \"Sports / Women's Sports / Shop by Sport Activity / Running / Accessories / Belts\", \"Sports / Women's Sports / Shop by Sport Activity / Running / Accessories / Caps\", \"Sports / Women's Sports / Shop by Sport Activity / Running / Accessories / Others\", \"Sports / Women's Sports / Shop by Sport Activity / Running / Accessories / Socks\", \"Sports / Women's Sports / Shop by Sport Activity / Training / Clothing / Tops\", \"Sports / Women's Sports / Shop by Sport Activity / Training / Clothing / Bottoms\", \"Sports / Women's Sports / Shop by Sport Activity / Training / Clothing / Sports Bras\", \"Sports / Women's Sports / Shop by Sport Activity / Outdoors / Clothing / Tops\", \"Sports / Women's Sports / Shop by Sport Activity / Outdoors / Clothing / Bottoms\", \"Sports / Men's Sports / Shop by Category / Footwear / Others / Tennis and Volleyball\", \"Sports / Men's Sports / Shop by Category / Clothing / Tops / T-Shirts\", \"Sports / Men's Sports / Shop by Category / Clothing / Tops / Tanks\", \"Sports / Men's Sports / Shop by Category / Clothing / Bottoms / Shorts\", \"Sports / Men's Sports / Shop by Category / Clothing / Bottoms / Pants\", \"Sports / Men's Sports / Shop by Category / Clothing / Bottoms / Compression\", \"Sports / Men's Sports / Shop by Sport Activity / Running / Clothing / Tops\", \"Sports / Men's Sports / Shop by Sport Activity / Running / Clothing / Bottoms\", \"Sports / Men's Sports / Shop by Sport Activity / Running / Footwear / Barefoot\", \"Sports / Men's Sports / Shop by Sport Activity / Running / Footwear / Neutral\", \"Sports / Men's Sports / Shop by Sport Activity / Running / Footwear / Stability\", \"Sports / Men's Sports / Shop by Sport Activity / Running / Accessories / Belts\", \"Sports / Men's Sports / Shop by Sport Activity / Running / Accessories / Water Bottles\", \"Sports / Men's Sports / Shop by Sport Activity / Running / Accessories / Caps\", \"Sports / Men's Sports / Shop by Sport Activity / Running / Accessories / Socks\", \"Sports / Men's Sports / Shop by Sport Activity / Running / Accessories / Others\", \"Sports / Men's Sports / Shop by Sport Activity / Training / Clothing / Tops\", \"Sports / Men's Sports / Shop by Sport Activity / Training / Clothing / Bottoms\", \"Sports / Men's Sports / Shop by Sport Activity / Training / Clothing / Compression\", \"Sports / Men's Sports / Shop by Sport Activity / Training / Accessories / Caps\", \"Sports / Men's Sports / Shop by Sport Activity / Training / Accessories / Socks\", \"Sports / Men's Sports / Shop by Sport Activity / Lifestyle / Clothing / Tops\", \"Sports / Men's Sports / Shop by Sport Activity / Lifestyle / Clothing / Bottoms\", \"Sports / Men's Sports / Shop by Sport Activity / Lifestyle / Clothing / Outerwear\", \"Sports / Men's Sports / Shop by Sport Activity / Lifestyle / Shoes / Sneakers\", \"Sports / Men's Sports / Shop by Sport Activity / Lifestyle / Shoes / Casuals\", \"Sports / Men's Sports / Shop by Sport Activity / Lifestyle / Shoes / Flip-Flops\", \"Sports / Men's Sports / Shop by Sport Activity / Lifestyle / Accessories / Caps\", \"Sports / Men's Sports / Shop by Sport Activity / Lifestyle / Accessories / Water Bottles\", \"Sports / Men's Sports / Shop by Sport Activity / Lifestyle / Accessories / Socks\", \"Sports / Men's Sports / Shop by Sport Activity / Lifestyle / Accessories / Others\", \"Sports / Men's Sports / Shop by Sport Activity / Lifestyle / Bags & Backpacks / Backpacks\", \"Sports / Men's Sports / Shop by Sport Activity / Lifestyle / Bags & Backpacks / Messenger & Slings\", \"Sports / Men's Sports / Shop by Sport Activity / Lifestyle / Bags & Backpacks / Totes\", \"Sports / Men's Sports / Shop by Sport Activity / Lifestyle / Bags & Backpacks / Others\", \"Sports / Men's Sports / Shop by Sport Activity / Outdoor / Clothing / Tops\", \"Sports / Men's Sports / Shop by Sport Activity / Outdoor / Clothing / Bottoms\"]\n"
          ]
        }
      ]
    },
    {
      "cell_type": "code",
      "source": [
        "l_1 = [\"apples\",\"delhi\",\"kolkata\"]\n",
        "print(l_1)"
      ],
      "metadata": {
        "colab": {
          "base_uri": "https://localhost:8080/"
        },
        "id": "ypG2-f_72geL",
        "outputId": "043f9003-b09c-4856-b33e-85f1cc906522"
      },
      "execution_count": 24,
      "outputs": [
        {
          "output_type": "stream",
          "name": "stdout",
          "text": [
            "['apples', 'delhi', 'kolkata']\n"
          ]
        }
      ]
    },
    {
      "cell_type": "code",
      "source": [
        "embeddings = TransformerWordEmbeddings('bert-base-multilingual-cased')\n",
        "bert = Embeddings(embeddings)"
      ],
      "metadata": {
        "id": "kAz2W1F7zUAD"
      },
      "execution_count": 34,
      "outputs": []
    },
    {
      "cell_type": "code",
      "source": [
        "bert_model = PolyFuzz(bert)\n",
        "bert_model.match(list_2, list_1)"
      ],
      "metadata": {
        "colab": {
          "base_uri": "https://localhost:8080/"
        },
        "id": "-BHAstS8zccC",
        "outputId": "ffd0bd4f-e3b7-4ba6-904b-5d6b4bf3f03d"
      },
      "execution_count": 35,
      "outputs": [
        {
          "output_type": "execute_result",
          "data": {
            "text/plain": [
              "<polyfuzz.polyfuzz.PolyFuzz at 0x7f9f4a6f7d50>"
            ]
          },
          "metadata": {},
          "execution_count": 35
        }
      ]
    },
    {
      "cell_type": "code",
      "source": [
        "bert_model.get_matches()"
      ],
      "metadata": {
        "colab": {
          "base_uri": "https://localhost:8080/",
          "height": 655
        },
        "id": "0GorGsxwzg22",
        "outputId": "2304fa4d-7b55-4571-f34a-86451fd6e6d6"
      },
      "execution_count": 37,
      "outputs": [
        {
          "output_type": "execute_result",
          "data": {
            "text/html": [
              "\n",
              "  <div id=\"df-040246d2-ac65-42d6-9693-25a57434f4f4\">\n",
              "    <div class=\"colab-df-container\">\n",
              "      <div>\n",
              "<style scoped>\n",
              "    .dataframe tbody tr th:only-of-type {\n",
              "        vertical-align: middle;\n",
              "    }\n",
              "\n",
              "    .dataframe tbody tr th {\n",
              "        vertical-align: top;\n",
              "    }\n",
              "\n",
              "    .dataframe thead th {\n",
              "        text-align: right;\n",
              "    }\n",
              "</style>\n",
              "<table border=\"1\" class=\"dataframe\">\n",
              "  <thead>\n",
              "    <tr style=\"text-align: right;\">\n",
              "      <th></th>\n",
              "      <th>From</th>\n",
              "      <th>To</th>\n",
              "      <th>Similarity</th>\n",
              "    </tr>\n",
              "  </thead>\n",
              "  <tbody>\n",
              "    <tr>\n",
              "      <th>0</th>\n",
              "      <td>Essentials / Household Essentials</td>\n",
              "      <td>Beauty / Personal Care / Bath &amp; Body / Aromath...</td>\n",
              "      <td>0.815</td>\n",
              "    </tr>\n",
              "    <tr>\n",
              "      <th>1</th>\n",
              "      <td>Essential Supplies / Women's Essential Supplies</td>\n",
              "      <td>Pet Supplies / Pet Food / Dog Food &amp; Treat / D...</td>\n",
              "      <td>0.832</td>\n",
              "    </tr>\n",
              "    <tr>\n",
              "      <th>2</th>\n",
              "      <td>Essentials / Food Essentials / Food &amp; Beverages</td>\n",
              "      <td>Pet Supplies / Pet Food / Dog Food &amp; Treat / D...</td>\n",
              "      <td>0.901</td>\n",
              "    </tr>\n",
              "    <tr>\n",
              "      <th>3</th>\n",
              "      <td>Essentials / Healthcare Essentials / Healthcare</td>\n",
              "      <td>Beauty / Personal Care / Hair Care / Hair Care...</td>\n",
              "      <td>0.845</td>\n",
              "    </tr>\n",
              "    <tr>\n",
              "      <th>4</th>\n",
              "      <td>Essential Supplies / Men's Essential Supplies ...</td>\n",
              "      <td>Pet Supplies / Pet Food / Dog Food &amp; Treat / D...</td>\n",
              "      <td>0.868</td>\n",
              "    </tr>\n",
              "    <tr>\n",
              "      <th>...</th>\n",
              "      <td>...</td>\n",
              "      <td>...</td>\n",
              "      <td>...</td>\n",
              "    </tr>\n",
              "    <tr>\n",
              "      <th>675</th>\n",
              "      <td>Sports / Men's Sports / Shop by Sport Activity...</td>\n",
              "      <td>Sports &amp; Outdoors / Sports Equipment / Racket ...</td>\n",
              "      <td>0.956</td>\n",
              "    </tr>\n",
              "    <tr>\n",
              "      <th>676</th>\n",
              "      <td>Sports / Men's Sports / Shop by Sport Activity...</td>\n",
              "      <td>Sports &amp; Outdoors / Sports Equipment / Water S...</td>\n",
              "      <td>0.954</td>\n",
              "    </tr>\n",
              "    <tr>\n",
              "      <th>677</th>\n",
              "      <td>Sports / Men's Sports / Shop by Sport Activity...</td>\n",
              "      <td>Sports &amp; Outdoors / Sports Equipment / Water S...</td>\n",
              "      <td>0.948</td>\n",
              "    </tr>\n",
              "    <tr>\n",
              "      <th>678</th>\n",
              "      <td>Sports / Men's Sports / Shop by Sport Activity...</td>\n",
              "      <td>Sports &amp; Outdoors / Sports Equipment / Golf / ...</td>\n",
              "      <td>0.954</td>\n",
              "    </tr>\n",
              "    <tr>\n",
              "      <th>679</th>\n",
              "      <td>Sports / Men's Sports / Shop by Sport Activity...</td>\n",
              "      <td>Sports &amp; Outdoors / Sports Equipment / Water S...</td>\n",
              "      <td>0.952</td>\n",
              "    </tr>\n",
              "  </tbody>\n",
              "</table>\n",
              "<p>680 rows × 3 columns</p>\n",
              "</div>\n",
              "      <button class=\"colab-df-convert\" onclick=\"convertToInteractive('df-040246d2-ac65-42d6-9693-25a57434f4f4')\"\n",
              "              title=\"Convert this dataframe to an interactive table.\"\n",
              "              style=\"display:none;\">\n",
              "        \n",
              "  <svg xmlns=\"http://www.w3.org/2000/svg\" height=\"24px\"viewBox=\"0 0 24 24\"\n",
              "       width=\"24px\">\n",
              "    <path d=\"M0 0h24v24H0V0z\" fill=\"none\"/>\n",
              "    <path d=\"M18.56 5.44l.94 2.06.94-2.06 2.06-.94-2.06-.94-.94-2.06-.94 2.06-2.06.94zm-11 1L8.5 8.5l.94-2.06 2.06-.94-2.06-.94L8.5 2.5l-.94 2.06-2.06.94zm10 10l.94 2.06.94-2.06 2.06-.94-2.06-.94-.94-2.06-.94 2.06-2.06.94z\"/><path d=\"M17.41 7.96l-1.37-1.37c-.4-.4-.92-.59-1.43-.59-.52 0-1.04.2-1.43.59L10.3 9.45l-7.72 7.72c-.78.78-.78 2.05 0 2.83L4 21.41c.39.39.9.59 1.41.59.51 0 1.02-.2 1.41-.59l7.78-7.78 2.81-2.81c.8-.78.8-2.07 0-2.86zM5.41 20L4 18.59l7.72-7.72 1.47 1.35L5.41 20z\"/>\n",
              "  </svg>\n",
              "      </button>\n",
              "      \n",
              "  <style>\n",
              "    .colab-df-container {\n",
              "      display:flex;\n",
              "      flex-wrap:wrap;\n",
              "      gap: 12px;\n",
              "    }\n",
              "\n",
              "    .colab-df-convert {\n",
              "      background-color: #E8F0FE;\n",
              "      border: none;\n",
              "      border-radius: 50%;\n",
              "      cursor: pointer;\n",
              "      display: none;\n",
              "      fill: #1967D2;\n",
              "      height: 32px;\n",
              "      padding: 0 0 0 0;\n",
              "      width: 32px;\n",
              "    }\n",
              "\n",
              "    .colab-df-convert:hover {\n",
              "      background-color: #E2EBFA;\n",
              "      box-shadow: 0px 1px 2px rgba(60, 64, 67, 0.3), 0px 1px 3px 1px rgba(60, 64, 67, 0.15);\n",
              "      fill: #174EA6;\n",
              "    }\n",
              "\n",
              "    [theme=dark] .colab-df-convert {\n",
              "      background-color: #3B4455;\n",
              "      fill: #D2E3FC;\n",
              "    }\n",
              "\n",
              "    [theme=dark] .colab-df-convert:hover {\n",
              "      background-color: #434B5C;\n",
              "      box-shadow: 0px 1px 3px 1px rgba(0, 0, 0, 0.15);\n",
              "      filter: drop-shadow(0px 1px 2px rgba(0, 0, 0, 0.3));\n",
              "      fill: #FFFFFF;\n",
              "    }\n",
              "  </style>\n",
              "\n",
              "      <script>\n",
              "        const buttonEl =\n",
              "          document.querySelector('#df-040246d2-ac65-42d6-9693-25a57434f4f4 button.colab-df-convert');\n",
              "        buttonEl.style.display =\n",
              "          google.colab.kernel.accessAllowed ? 'block' : 'none';\n",
              "\n",
              "        async function convertToInteractive(key) {\n",
              "          const element = document.querySelector('#df-040246d2-ac65-42d6-9693-25a57434f4f4');\n",
              "          const dataTable =\n",
              "            await google.colab.kernel.invokeFunction('convertToInteractive',\n",
              "                                                     [key], {});\n",
              "          if (!dataTable) return;\n",
              "\n",
              "          const docLinkHtml = 'Like what you see? Visit the ' +\n",
              "            '<a target=\"_blank\" href=https://colab.research.google.com/notebooks/data_table.ipynb>data table notebook</a>'\n",
              "            + ' to learn more about interactive tables.';\n",
              "          element.innerHTML = '';\n",
              "          dataTable['output_type'] = 'display_data';\n",
              "          await google.colab.output.renderOutput(dataTable, element);\n",
              "          const docLink = document.createElement('div');\n",
              "          docLink.innerHTML = docLinkHtml;\n",
              "          element.appendChild(docLink);\n",
              "        }\n",
              "      </script>\n",
              "    </div>\n",
              "  </div>\n",
              "  "
            ],
            "text/plain": [
              "                                                  From  ... Similarity\n",
              "0                    Essentials / Household Essentials  ...      0.815\n",
              "1      Essential Supplies / Women's Essential Supplies  ...      0.832\n",
              "2      Essentials / Food Essentials / Food & Beverages  ...      0.901\n",
              "3      Essentials / Healthcare Essentials / Healthcare  ...      0.845\n",
              "4    Essential Supplies / Men's Essential Supplies ...  ...      0.868\n",
              "..                                                 ...  ...        ...\n",
              "675  Sports / Men's Sports / Shop by Sport Activity...  ...      0.956\n",
              "676  Sports / Men's Sports / Shop by Sport Activity...  ...      0.954\n",
              "677  Sports / Men's Sports / Shop by Sport Activity...  ...      0.948\n",
              "678  Sports / Men's Sports / Shop by Sport Activity...  ...      0.954\n",
              "679  Sports / Men's Sports / Shop by Sport Activity...  ...      0.952\n",
              "\n",
              "[680 rows x 3 columns]"
            ]
          },
          "metadata": {},
          "execution_count": 37
        }
      ]
    }
  ]
}