{
  "nbformat": 4,
  "nbformat_minor": 0,
  "metadata": {
    "colab": {
      "name": "stock forecasting.ipynb",
      "provenance": [],
      "authorship_tag": "ABX9TyNsXBVMzcXE1aY1pDvZUsFA",
      "include_colab_link": true
    },
    "kernelspec": {
      "name": "python3",
      "display_name": "Python 3"
    },
    "language_info": {
      "name": "python"
    }
  },
  "cells": [
    {
      "cell_type": "markdown",
      "metadata": {
        "id": "view-in-github",
        "colab_type": "text"
      },
      "source": [
        "<a href=\"https://colab.research.google.com/github/DEBMALYAMAJUMDER/stock-forecast/blob/main/stock_forecasting.ipynb\" target=\"_parent\"><img src=\"https://colab.research.google.com/assets/colab-badge.svg\" alt=\"Open In Colab\"/></a>"
      ]
    },
    {
      "cell_type": "code",
      "execution_count": 1,
      "metadata": {
        "id": "Tr6zH6ks6hXd"
      },
      "outputs": [],
      "source": [
        "### Data Collection\n",
        "import pandas_datareader as pdr\n",
        "key=\"6295bfe79f94d6871c8dd1b02a9125f8407d0fcc\""
      ]
    },
    {
      "cell_type": "code",
      "source": [
        "df = pdr.get_data_tiingo('AAPL', api_key=key)\n"
      ],
      "metadata": {
        "id": "-2MvjJJI62lM"
      },
      "execution_count": 2,
      "outputs": []
    },
    {
      "cell_type": "code",
      "source": [
        "df.to_csv('AAPL.csv')\n"
      ],
      "metadata": {
        "id": "pRR9F6WM9WHK"
      },
      "execution_count": 3,
      "outputs": []
    },
    {
      "cell_type": "code",
      "source": [
        "import pandas as pd"
      ],
      "metadata": {
        "id": "WTwXK8iM9YzD"
      },
      "execution_count": 4,
      "outputs": []
    },
    {
      "cell_type": "code",
      "source": [
        "df=pd.read_csv('AAPL.csv')"
      ],
      "metadata": {
        "id": "LVyCpoh29gKq"
      },
      "execution_count": 5,
      "outputs": []
    },
    {
      "cell_type": "code",
      "source": [
        "df.head()"
      ],
      "metadata": {
        "colab": {
          "base_uri": "https://localhost:8080/",
          "height": 206
        },
        "id": "Rrfy5vXR99G2",
        "outputId": "c3c85e77-6801-4345-8174-a6cb293436cd"
      },
      "execution_count": 6,
      "outputs": [
        {
          "output_type": "execute_result",
          "data": {
            "text/html": [
              "<div>\n",
              "<style scoped>\n",
              "    .dataframe tbody tr th:only-of-type {\n",
              "        vertical-align: middle;\n",
              "    }\n",
              "\n",
              "    .dataframe tbody tr th {\n",
              "        vertical-align: top;\n",
              "    }\n",
              "\n",
              "    .dataframe thead th {\n",
              "        text-align: right;\n",
              "    }\n",
              "</style>\n",
              "<table border=\"1\" class=\"dataframe\">\n",
              "  <thead>\n",
              "    <tr style=\"text-align: right;\">\n",
              "      <th></th>\n",
              "      <th>symbol</th>\n",
              "      <th>date</th>\n",
              "      <th>close</th>\n",
              "      <th>high</th>\n",
              "      <th>low</th>\n",
              "      <th>open</th>\n",
              "      <th>volume</th>\n",
              "      <th>adjClose</th>\n",
              "      <th>adjHigh</th>\n",
              "      <th>adjLow</th>\n",
              "      <th>adjOpen</th>\n",
              "      <th>adjVolume</th>\n",
              "      <th>divCash</th>\n",
              "      <th>splitFactor</th>\n",
              "    </tr>\n",
              "  </thead>\n",
              "  <tbody>\n",
              "    <tr>\n",
              "      <th>0</th>\n",
              "      <td>AAPL</td>\n",
              "      <td>2016-12-19 00:00:00+00:00</td>\n",
              "      <td>116.64</td>\n",
              "      <td>117.38</td>\n",
              "      <td>115.75</td>\n",
              "      <td>115.80</td>\n",
              "      <td>27779423</td>\n",
              "      <td>27.444482</td>\n",
              "      <td>27.618598</td>\n",
              "      <td>27.235072</td>\n",
              "      <td>27.246836</td>\n",
              "      <td>111117692</td>\n",
              "      <td>0.0</td>\n",
              "      <td>1.0</td>\n",
              "    </tr>\n",
              "    <tr>\n",
              "      <th>1</th>\n",
              "      <td>AAPL</td>\n",
              "      <td>2016-12-20 00:00:00+00:00</td>\n",
              "      <td>116.95</td>\n",
              "      <td>117.50</td>\n",
              "      <td>116.68</td>\n",
              "      <td>116.74</td>\n",
              "      <td>21424965</td>\n",
              "      <td>27.517422</td>\n",
              "      <td>27.646833</td>\n",
              "      <td>27.453893</td>\n",
              "      <td>27.468011</td>\n",
              "      <td>85699860</td>\n",
              "      <td>0.0</td>\n",
              "      <td>1.0</td>\n",
              "    </tr>\n",
              "    <tr>\n",
              "      <th>2</th>\n",
              "      <td>AAPL</td>\n",
              "      <td>2016-12-21 00:00:00+00:00</td>\n",
              "      <td>117.06</td>\n",
              "      <td>117.40</td>\n",
              "      <td>116.78</td>\n",
              "      <td>116.80</td>\n",
              "      <td>23783165</td>\n",
              "      <td>27.543305</td>\n",
              "      <td>27.623304</td>\n",
              "      <td>27.477423</td>\n",
              "      <td>27.482129</td>\n",
              "      <td>95132660</td>\n",
              "      <td>0.0</td>\n",
              "      <td>1.0</td>\n",
              "    </tr>\n",
              "    <tr>\n",
              "      <th>3</th>\n",
              "      <td>AAPL</td>\n",
              "      <td>2016-12-22 00:00:00+00:00</td>\n",
              "      <td>116.29</td>\n",
              "      <td>116.51</td>\n",
              "      <td>115.64</td>\n",
              "      <td>116.35</td>\n",
              "      <td>26085854</td>\n",
              "      <td>27.362130</td>\n",
              "      <td>27.413894</td>\n",
              "      <td>27.209190</td>\n",
              "      <td>27.376247</td>\n",
              "      <td>104343416</td>\n",
              "      <td>0.0</td>\n",
              "      <td>1.0</td>\n",
              "    </tr>\n",
              "    <tr>\n",
              "      <th>4</th>\n",
              "      <td>AAPL</td>\n",
              "      <td>2016-12-23 00:00:00+00:00</td>\n",
              "      <td>116.52</td>\n",
              "      <td>116.52</td>\n",
              "      <td>115.59</td>\n",
              "      <td>115.59</td>\n",
              "      <td>14249484</td>\n",
              "      <td>27.416247</td>\n",
              "      <td>27.416247</td>\n",
              "      <td>27.197425</td>\n",
              "      <td>27.197425</td>\n",
              "      <td>56997936</td>\n",
              "      <td>0.0</td>\n",
              "      <td>1.0</td>\n",
              "    </tr>\n",
              "  </tbody>\n",
              "</table>\n",
              "</div>"
            ],
            "text/plain": [
              "  symbol                       date   close  ...  adjVolume  divCash  splitFactor\n",
              "0   AAPL  2016-12-19 00:00:00+00:00  116.64  ...  111117692      0.0          1.0\n",
              "1   AAPL  2016-12-20 00:00:00+00:00  116.95  ...   85699860      0.0          1.0\n",
              "2   AAPL  2016-12-21 00:00:00+00:00  117.06  ...   95132660      0.0          1.0\n",
              "3   AAPL  2016-12-22 00:00:00+00:00  116.29  ...  104343416      0.0          1.0\n",
              "4   AAPL  2016-12-23 00:00:00+00:00  116.52  ...   56997936      0.0          1.0\n",
              "\n",
              "[5 rows x 14 columns]"
            ]
          },
          "metadata": {},
          "execution_count": 6
        }
      ]
    },
    {
      "cell_type": "code",
      "source": [
        "df.tail()"
      ],
      "metadata": {
        "colab": {
          "base_uri": "https://localhost:8080/",
          "height": 206
        },
        "id": "q-poLuog-BNS",
        "outputId": "f366de3e-c0fb-4b5c-82bb-dcf7e788c0a6"
      },
      "execution_count": 7,
      "outputs": [
        {
          "output_type": "execute_result",
          "data": {
            "text/html": [
              "<div>\n",
              "<style scoped>\n",
              "    .dataframe tbody tr th:only-of-type {\n",
              "        vertical-align: middle;\n",
              "    }\n",
              "\n",
              "    .dataframe tbody tr th {\n",
              "        vertical-align: top;\n",
              "    }\n",
              "\n",
              "    .dataframe thead th {\n",
              "        text-align: right;\n",
              "    }\n",
              "</style>\n",
              "<table border=\"1\" class=\"dataframe\">\n",
              "  <thead>\n",
              "    <tr style=\"text-align: right;\">\n",
              "      <th></th>\n",
              "      <th>symbol</th>\n",
              "      <th>date</th>\n",
              "      <th>close</th>\n",
              "      <th>high</th>\n",
              "      <th>low</th>\n",
              "      <th>open</th>\n",
              "      <th>volume</th>\n",
              "      <th>adjClose</th>\n",
              "      <th>adjHigh</th>\n",
              "      <th>adjLow</th>\n",
              "      <th>adjOpen</th>\n",
              "      <th>adjVolume</th>\n",
              "      <th>divCash</th>\n",
              "      <th>splitFactor</th>\n",
              "    </tr>\n",
              "  </thead>\n",
              "  <tbody>\n",
              "    <tr>\n",
              "      <th>1252</th>\n",
              "      <td>AAPL</td>\n",
              "      <td>2021-12-09 00:00:00+00:00</td>\n",
              "      <td>174.56</td>\n",
              "      <td>176.75</td>\n",
              "      <td>173.9200</td>\n",
              "      <td>174.910</td>\n",
              "      <td>108923739</td>\n",
              "      <td>174.56</td>\n",
              "      <td>176.75</td>\n",
              "      <td>173.9200</td>\n",
              "      <td>174.910</td>\n",
              "      <td>108923739</td>\n",
              "      <td>0.0</td>\n",
              "      <td>1.0</td>\n",
              "    </tr>\n",
              "    <tr>\n",
              "      <th>1253</th>\n",
              "      <td>AAPL</td>\n",
              "      <td>2021-12-10 00:00:00+00:00</td>\n",
              "      <td>179.45</td>\n",
              "      <td>179.63</td>\n",
              "      <td>174.6900</td>\n",
              "      <td>175.205</td>\n",
              "      <td>115402731</td>\n",
              "      <td>179.45</td>\n",
              "      <td>179.63</td>\n",
              "      <td>174.6900</td>\n",
              "      <td>175.205</td>\n",
              "      <td>115402731</td>\n",
              "      <td>0.0</td>\n",
              "      <td>1.0</td>\n",
              "    </tr>\n",
              "    <tr>\n",
              "      <th>1254</th>\n",
              "      <td>AAPL</td>\n",
              "      <td>2021-12-13 00:00:00+00:00</td>\n",
              "      <td>175.74</td>\n",
              "      <td>182.13</td>\n",
              "      <td>175.5300</td>\n",
              "      <td>181.115</td>\n",
              "      <td>153237019</td>\n",
              "      <td>175.74</td>\n",
              "      <td>182.13</td>\n",
              "      <td>175.5300</td>\n",
              "      <td>181.115</td>\n",
              "      <td>153237019</td>\n",
              "      <td>0.0</td>\n",
              "      <td>1.0</td>\n",
              "    </tr>\n",
              "    <tr>\n",
              "      <th>1255</th>\n",
              "      <td>AAPL</td>\n",
              "      <td>2021-12-14 00:00:00+00:00</td>\n",
              "      <td>174.33</td>\n",
              "      <td>177.74</td>\n",
              "      <td>172.2100</td>\n",
              "      <td>175.250</td>\n",
              "      <td>139380382</td>\n",
              "      <td>174.33</td>\n",
              "      <td>177.74</td>\n",
              "      <td>172.2100</td>\n",
              "      <td>175.250</td>\n",
              "      <td>139380382</td>\n",
              "      <td>0.0</td>\n",
              "      <td>1.0</td>\n",
              "    </tr>\n",
              "    <tr>\n",
              "      <th>1256</th>\n",
              "      <td>AAPL</td>\n",
              "      <td>2021-12-15 00:00:00+00:00</td>\n",
              "      <td>179.30</td>\n",
              "      <td>179.50</td>\n",
              "      <td>172.3108</td>\n",
              "      <td>175.110</td>\n",
              "      <td>131063257</td>\n",
              "      <td>179.30</td>\n",
              "      <td>179.50</td>\n",
              "      <td>172.3108</td>\n",
              "      <td>175.110</td>\n",
              "      <td>131063257</td>\n",
              "      <td>0.0</td>\n",
              "      <td>1.0</td>\n",
              "    </tr>\n",
              "  </tbody>\n",
              "</table>\n",
              "</div>"
            ],
            "text/plain": [
              "     symbol                       date   close  ...  adjVolume  divCash  splitFactor\n",
              "1252   AAPL  2021-12-09 00:00:00+00:00  174.56  ...  108923739      0.0          1.0\n",
              "1253   AAPL  2021-12-10 00:00:00+00:00  179.45  ...  115402731      0.0          1.0\n",
              "1254   AAPL  2021-12-13 00:00:00+00:00  175.74  ...  153237019      0.0          1.0\n",
              "1255   AAPL  2021-12-14 00:00:00+00:00  174.33  ...  139380382      0.0          1.0\n",
              "1256   AAPL  2021-12-15 00:00:00+00:00  179.30  ...  131063257      0.0          1.0\n",
              "\n",
              "[5 rows x 14 columns]"
            ]
          },
          "metadata": {},
          "execution_count": 7
        }
      ]
    },
    {
      "cell_type": "code",
      "source": [
        "df1=df.reset_index()['close']"
      ],
      "metadata": {
        "id": "x_ORfHw9-M5a"
      },
      "execution_count": 8,
      "outputs": []
    },
    {
      "cell_type": "code",
      "source": [
        "print(df1)"
      ],
      "metadata": {
        "colab": {
          "base_uri": "https://localhost:8080/"
        },
        "id": "bMf3ftrO-h12",
        "outputId": "bbfdd4c4-2e77-4a38-c6cd-41c84464515b"
      },
      "execution_count": 9,
      "outputs": [
        {
          "output_type": "stream",
          "name": "stdout",
          "text": [
            "0       116.64\n",
            "1       116.95\n",
            "2       117.06\n",
            "3       116.29\n",
            "4       116.52\n",
            "         ...  \n",
            "1252    174.56\n",
            "1253    179.45\n",
            "1254    175.74\n",
            "1255    174.33\n",
            "1256    179.30\n",
            "Name: close, Length: 1257, dtype: float64\n"
          ]
        }
      ]
    },
    {
      "cell_type": "code",
      "source": [
        "import matplotlib.pyplot as plt\n",
        "plt.plot(df1)\n"
      ],
      "metadata": {
        "colab": {
          "base_uri": "https://localhost:8080/",
          "height": 282
        },
        "id": "Huvw0gkeAC_i",
        "outputId": "cadee483-b3d7-44e3-f25e-ce618efe80ae"
      },
      "execution_count": 10,
      "outputs": [
        {
          "output_type": "execute_result",
          "data": {
            "text/plain": [
              "[<matplotlib.lines.Line2D at 0x7f418428b690>]"
            ]
          },
          "metadata": {},
          "execution_count": 10
        },
        {
          "output_type": "display_data",
          "data": {
            "image/png": "[encoded data removed]",
            "text/plain": [
              "<Figure size 432x288 with 1 Axes>"
            ]
          },
          "metadata": {
            "needs_background": "light"
          }
        }
      ]
    },
    {
      "cell_type": "code",
      "source": [
        "import numpy as np"
      ],
      "metadata": {
        "id": "tpUJSwN4AQqD"
      },
      "execution_count": 11,
      "outputs": []
    },
    {
      "cell_type": "code",
      "source": [
        "df1"
      ],
      "metadata": {
        "colab": {
          "base_uri": "https://localhost:8080/"
        },
        "id": "3O-RdSBcAUWQ",
        "outputId": "43cea7cc-3d71-49f3-a134-9c1f71f68513"
      },
      "execution_count": 12,
      "outputs": [
        {
          "output_type": "execute_result",
          "data": {
            "text/plain": [
              "0       116.64\n",
              "1       116.95\n",
              "2       117.06\n",
              "3       116.29\n",
              "4       116.52\n",
              "         ...  \n",
              "1252    174.56\n",
              "1253    179.45\n",
              "1254    175.74\n",
              "1255    174.33\n",
              "1256    179.30\n",
              "Name: close, Length: 1257, dtype: float64"
            ]
          },
          "metadata": {},
          "execution_count": 12
        }
      ]
    },
    {
      "cell_type": "code",
      "source": [
        "from sklearn.preprocessing import MinMaxScaler\n",
        "scaler=MinMaxScaler(feature_range=(0,1))\n",
        "df1=scaler.fit_transform(np.array(df1).reshape(-1,1))\n"
      ],
      "metadata": {
        "id": "rUEa1A-VAYJc"
      },
      "execution_count": 13,
      "outputs": []
    },
    {
      "cell_type": "code",
      "source": [
        "#new df1\n",
        "print(df1)"
      ],
      "metadata": {
        "colab": {
          "base_uri": "https://localhost:8080/"
        },
        "id": "P3HHsZnXAuZA",
        "outputId": "8abe7d10-95a5-4cb8-b080-35167269101c"
      },
      "execution_count": 14,
      "outputs": [
        {
          "output_type": "stream",
          "name": "stdout",
          "text": [
            "[[0.02454602]\n",
            " [0.02532248]\n",
            " [0.025598  ]\n",
            " ...\n",
            " [0.17257358]\n",
            " [0.16904195]\n",
            " [0.18149029]]\n"
          ]
        }
      ]
    },
    {
      "cell_type": "code",
      "source": [
        "##splitting dataset into train and test split\n",
        "training_size=int(len(df1)*0.70)\n",
        "test_size=len(df1)-training_size\n",
        "train_data,test_data=df1[0:training_size,:],df1[training_size:len(df1),:1]\n"
      ],
      "metadata": {
        "id": "HaoY1n8iBC2q"
      },
      "execution_count": 15,
      "outputs": []
    },
    {
      "cell_type": "code",
      "source": [
        "training_size,test_size"
      ],
      "metadata": {
        "colab": {
          "base_uri": "https://localhost:8080/"
        },
        "id": "dXZnbBk8BI9E",
        "outputId": "29f2e9d4-250c-4aaa-cac5-020edb2d56cf"
      },
      "execution_count": 16,
      "outputs": [
        {
          "output_type": "execute_result",
          "data": {
            "text/plain": [
              "(879, 378)"
            ]
          },
          "metadata": {},
          "execution_count": 16
        }
      ]
    },
    {
      "cell_type": "code",
      "source": [
        "import numpy\n",
        "# convert an array of values into a dataset matrix\n",
        "def create_dataset(dataset, time_step=1):\n",
        "\tdataX, dataY = [], []\n",
        "\tfor i in range(len(dataset)-time_step-1):\n",
        "\t\ta = dataset[i:(i+time_step), 0]   ###i=0, 0,1,2,3-----99   100 \n",
        "\t\tdataX.append(a)\n",
        "\t\tdataY.append(dataset[i + time_step, 0])\n",
        "\treturn numpy.array(dataX), numpy.array(dataY)\n"
      ],
      "metadata": {
        "id": "voLjc-PfB0rn"
      },
      "execution_count": 17,
      "outputs": []
    },
    {
      "cell_type": "code",
      "source": [
        "# reshape into X=t,t+1,t+2,t+3 and Y=t+4\n",
        "time_step = 100\n",
        "X_train, y_train = create_dataset(train_data, time_step)\n",
        "X_test, ytest = create_dataset(test_data, time_step)"
      ],
      "metadata": {
        "id": "xBdU-qx1EriA"
      },
      "execution_count": 18,
      "outputs": []
    },
    {
      "cell_type": "code",
      "source": [
        "# reshape input to be [samples, time steps, features] which is required for LSTM\n",
        "X_train =X_train.reshape(X_train.shape[0],X_train.shape[1] , 1)\n",
        "X_test = X_test.reshape(X_test.shape[0],X_test.shape[1] , 1)"
      ],
      "metadata": {
        "id": "PinSbPOtE2Bs"
      },
      "execution_count": 19,
      "outputs": []
    },
    {
      "cell_type": "code",
      "source": [
        "# Create the Stacked LSTM model\n",
        "from tensorflow.keras.models import Sequential\n",
        "from tensorflow.keras.layers import Dense\n",
        "from tensorflow.keras.layers import LSTM\n"
      ],
      "metadata": {
        "id": "yrRnLyx2FEjz"
      },
      "execution_count": 20,
      "outputs": []
    },
    {
      "cell_type": "code",
      "source": [
        "model=Sequential()\n",
        "model.add(LSTM(50,return_sequences=True,input_shape=(100,1)))\n",
        "model.add(LSTM(50,return_sequences=True))\n",
        "model.add(LSTM(50))\n",
        "model.add(Dense(1))\n",
        "model.compile(loss='mean_squared_error',optimizer='adam')\n"
      ],
      "metadata": {
        "id": "PzNgTGuYFIZb"
      },
      "execution_count": 21,
      "outputs": []
    },
    {
      "cell_type": "code",
      "source": [
        "model.summary()"
      ],
      "metadata": {
        "colab": {
          "base_uri": "https://localhost:8080/"
        },
        "id": "24E6mgmUFjxH",
        "outputId": "87e021d1-af2a-4602-8804-574f44bc0771"
      },
      "execution_count": 22,
      "outputs": [
        {
          "output_type": "stream",
          "name": "stdout",
          "text": [
            "Model: \"sequential\"\n",
            "_________________________________________________________________\n",
            " Layer (type)                Output Shape              Param #   \n",
            "=================================================================\n",
            " lstm (LSTM)                 (None, 100, 50)           10400     \n",
            "                                                                 \n",
            " lstm_1 (LSTM)               (None, 100, 50)           20200     \n",
            "                                                                 \n",
            " lstm_2 (LSTM)               (None, 50)                20200     \n",
            "                                                                 \n",
            " dense (Dense)               (None, 1)                 51        \n",
            "                                                                 \n",
            "=================================================================\n",
            "Total params: 50,851\n",
            "Trainable params: 50,851\n",
            "Non-trainable params: 0\n",
            "_________________________________________________________________\n"
          ]
        }
      ]
    },
    {
      "cell_type": "code",
      "source": [
        "model.fit(X_train,y_train,validation_data=(X_test,ytest),epochs=90,batch_size=64,verbose=1)\n"
      ],
      "metadata": {
        "colab": {
          "base_uri": "https://localhost:8080/"
        },
        "id": "OOmtniM9Fq6S",
        "outputId": "f8376603-d05b-4b4c-bc6a-f680444201f1"
      },
      "execution_count": 23,
      "outputs": [
        {
          "output_type": "stream",
          "name": "stdout",
          "text": [
            "Epoch 1/90\n",
            "13/13 [==============================] - 17s 595ms/step - loss: 0.0196 - val_loss: 0.0020\n",
            "Epoch 2/90\n",
            "13/13 [==============================] - 4s 337ms/step - loss: 0.0046 - val_loss: 0.0046\n",
            "Epoch 3/90\n",
            "13/13 [==============================] - 5s 366ms/step - loss: 0.0018 - val_loss: 8.5701e-04\n",
            "Epoch 4/90\n",
            "13/13 [==============================] - 4s 305ms/step - loss: 0.0012 - val_loss: 2.2754e-04\n",
            "Epoch 5/90\n",
            "13/13 [==============================] - 4s 324ms/step - loss: 9.5824e-04 - val_loss: 2.1930e-04\n",
            "Epoch 6/90\n",
            "13/13 [==============================] - 2s 173ms/step - loss: 9.0802e-04 - val_loss: 3.6898e-04\n",
            "Epoch 7/90\n",
            "13/13 [==============================] - 2s 171ms/step - loss: 8.3054e-04 - val_loss: 2.0424e-04\n",
            "Epoch 8/90\n",
            "13/13 [==============================] - 2s 170ms/step - loss: 7.8908e-04 - val_loss: 1.9378e-04\n",
            "Epoch 9/90\n",
            "13/13 [==============================] - 2s 170ms/step - loss: 8.6326e-04 - val_loss: 2.1294e-04\n",
            "Epoch 10/90\n",
            "13/13 [==============================] - 2s 173ms/step - loss: 7.3992e-04 - val_loss: 1.8232e-04\n",
            "Epoch 11/90\n",
            "13/13 [==============================] - 2s 171ms/step - loss: 6.4459e-04 - val_loss: 1.7394e-04\n",
            "Epoch 12/90\n",
            "13/13 [==============================] - 2s 172ms/step - loss: 6.5359e-04 - val_loss: 2.4424e-04\n",
            "Epoch 13/90\n",
            "13/13 [==============================] - 2s 173ms/step - loss: 5.9835e-04 - val_loss: 1.6196e-04\n",
            "Epoch 14/90\n",
            "13/13 [==============================] - 2s 171ms/step - loss: 5.3816e-04 - val_loss: 1.6352e-04\n",
            "Epoch 15/90\n",
            "13/13 [==============================] - 2s 173ms/step - loss: 5.3982e-04 - val_loss: 1.5778e-04\n",
            "Epoch 16/90\n",
            "13/13 [==============================] - 2s 172ms/step - loss: 5.2270e-04 - val_loss: 1.5401e-04\n",
            "Epoch 17/90\n",
            "13/13 [==============================] - 2s 173ms/step - loss: 4.8898e-04 - val_loss: 2.0109e-04\n",
            "Epoch 18/90\n",
            "13/13 [==============================] - 2s 173ms/step - loss: 7.4824e-04 - val_loss: 1.5410e-04\n",
            "Epoch 19/90\n",
            "13/13 [==============================] - 2s 174ms/step - loss: 4.7829e-04 - val_loss: 1.5225e-04\n",
            "Epoch 20/90\n",
            "13/13 [==============================] - 2s 172ms/step - loss: 4.7404e-04 - val_loss: 1.5131e-04\n",
            "Epoch 21/90\n",
            "13/13 [==============================] - 2s 172ms/step - loss: 4.4732e-04 - val_loss: 1.7642e-04\n",
            "Epoch 22/90\n",
            "13/13 [==============================] - 2s 172ms/step - loss: 4.3031e-04 - val_loss: 1.6626e-04\n",
            "Epoch 23/90\n",
            "13/13 [==============================] - 2s 172ms/step - loss: 6.4683e-04 - val_loss: 1.7459e-04\n",
            "Epoch 24/90\n",
            "13/13 [==============================] - 2s 174ms/step - loss: 5.1849e-04 - val_loss: 1.4173e-04\n",
            "Epoch 25/90\n",
            "13/13 [==============================] - 2s 172ms/step - loss: 4.2891e-04 - val_loss: 1.4167e-04\n",
            "Epoch 26/90\n",
            "13/13 [==============================] - 2s 173ms/step - loss: 4.2146e-04 - val_loss: 1.3555e-04\n",
            "Epoch 27/90\n",
            "13/13 [==============================] - 2s 173ms/step - loss: 4.1057e-04 - val_loss: 1.3691e-04\n",
            "Epoch 28/90\n",
            "13/13 [==============================] - 2s 171ms/step - loss: 4.1941e-04 - val_loss: 1.3298e-04\n",
            "Epoch 29/90\n",
            "13/13 [==============================] - 2s 174ms/step - loss: 4.2814e-04 - val_loss: 1.3219e-04\n",
            "Epoch 30/90\n",
            "13/13 [==============================] - 2s 173ms/step - loss: 4.3328e-04 - val_loss: 1.4444e-04\n",
            "Epoch 31/90\n",
            "13/13 [==============================] - 2s 173ms/step - loss: 4.7030e-04 - val_loss: 1.5792e-04\n",
            "Epoch 32/90\n",
            "13/13 [==============================] - 2s 174ms/step - loss: 4.7541e-04 - val_loss: 1.2982e-04\n",
            "Epoch 33/90\n",
            "13/13 [==============================] - 2s 176ms/step - loss: 4.3611e-04 - val_loss: 1.3711e-04\n",
            "Epoch 34/90\n",
            "13/13 [==============================] - 2s 174ms/step - loss: 4.2956e-04 - val_loss: 1.3150e-04\n",
            "Epoch 35/90\n",
            "13/13 [==============================] - 2s 174ms/step - loss: 4.1109e-04 - val_loss: 1.3015e-04\n",
            "Epoch 36/90\n",
            "13/13 [==============================] - 2s 175ms/step - loss: 3.9963e-04 - val_loss: 1.4166e-04\n",
            "Epoch 37/90\n",
            "13/13 [==============================] - 2s 171ms/step - loss: 3.7843e-04 - val_loss: 1.5718e-04\n",
            "Epoch 38/90\n",
            "13/13 [==============================] - 2s 174ms/step - loss: 5.2478e-04 - val_loss: 1.2950e-04\n",
            "Epoch 39/90\n",
            "13/13 [==============================] - 2s 173ms/step - loss: 4.5285e-04 - val_loss: 1.4182e-04\n",
            "Epoch 40/90\n",
            "13/13 [==============================] - 2s 172ms/step - loss: 4.3495e-04 - val_loss: 1.3482e-04\n",
            "Epoch 41/90\n",
            "13/13 [==============================] - 2s 171ms/step - loss: 3.7075e-04 - val_loss: 1.2669e-04\n",
            "Epoch 42/90\n",
            "13/13 [==============================] - 2s 173ms/step - loss: 4.0451e-04 - val_loss: 1.6044e-04\n",
            "Epoch 43/90\n",
            "13/13 [==============================] - 2s 174ms/step - loss: 4.0560e-04 - val_loss: 1.3079e-04\n",
            "Epoch 44/90\n",
            "13/13 [==============================] - 2s 172ms/step - loss: 3.6955e-04 - val_loss: 1.2233e-04\n",
            "Epoch 45/90\n",
            "13/13 [==============================] - 3s 242ms/step - loss: 4.5659e-04 - val_loss: 1.1926e-04\n",
            "Epoch 46/90\n",
            "13/13 [==============================] - 2s 172ms/step - loss: 4.4276e-04 - val_loss: 1.3271e-04\n",
            "Epoch 47/90\n",
            "13/13 [==============================] - 2s 173ms/step - loss: 3.7828e-04 - val_loss: 1.5871e-04\n",
            "Epoch 48/90\n",
            "13/13 [==============================] - 2s 172ms/step - loss: 4.1281e-04 - val_loss: 2.2609e-04\n",
            "Epoch 49/90\n",
            "13/13 [==============================] - 2s 173ms/step - loss: 4.5088e-04 - val_loss: 1.4181e-04\n",
            "Epoch 50/90\n",
            "13/13 [==============================] - 2s 173ms/step - loss: 4.1182e-04 - val_loss: 1.3386e-04\n",
            "Epoch 51/90\n",
            "13/13 [==============================] - 2s 171ms/step - loss: 3.7287e-04 - val_loss: 1.2134e-04\n",
            "Epoch 52/90\n",
            "13/13 [==============================] - 2s 174ms/step - loss: 3.4986e-04 - val_loss: 1.3163e-04\n",
            "Epoch 53/90\n",
            "13/13 [==============================] - 2s 172ms/step - loss: 3.5587e-04 - val_loss: 1.2242e-04\n",
            "Epoch 54/90\n",
            "13/13 [==============================] - 2s 170ms/step - loss: 3.6491e-04 - val_loss: 1.3968e-04\n",
            "Epoch 55/90\n",
            "13/13 [==============================] - 2s 171ms/step - loss: 3.9011e-04 - val_loss: 1.4477e-04\n",
            "Epoch 56/90\n",
            "13/13 [==============================] - 2s 175ms/step - loss: 3.7710e-04 - val_loss: 1.1629e-04\n",
            "Epoch 57/90\n",
            "13/13 [==============================] - 2s 171ms/step - loss: 3.7066e-04 - val_loss: 1.9439e-04\n",
            "Epoch 58/90\n",
            "13/13 [==============================] - 2s 172ms/step - loss: 4.4056e-04 - val_loss: 1.1356e-04\n",
            "Epoch 59/90\n",
            "13/13 [==============================] - 2s 172ms/step - loss: 3.4152e-04 - val_loss: 1.2844e-04\n",
            "Epoch 60/90\n",
            "13/13 [==============================] - 2s 173ms/step - loss: 3.5002e-04 - val_loss: 1.1134e-04\n",
            "Epoch 61/90\n",
            "13/13 [==============================] - 2s 174ms/step - loss: 3.5202e-04 - val_loss: 1.3557e-04\n",
            "Epoch 62/90\n",
            "13/13 [==============================] - 2s 173ms/step - loss: 3.5172e-04 - val_loss: 1.1321e-04\n",
            "Epoch 63/90\n",
            "13/13 [==============================] - 2s 172ms/step - loss: 3.4247e-04 - val_loss: 1.1800e-04\n",
            "Epoch 64/90\n",
            "13/13 [==============================] - 2s 172ms/step - loss: 3.4725e-04 - val_loss: 1.1470e-04\n",
            "Epoch 65/90\n",
            "13/13 [==============================] - 2s 173ms/step - loss: 3.4786e-04 - val_loss: 1.4163e-04\n",
            "Epoch 66/90\n",
            "13/13 [==============================] - 2s 175ms/step - loss: 3.2905e-04 - val_loss: 1.0821e-04\n",
            "Epoch 67/90\n",
            "13/13 [==============================] - 2s 173ms/step - loss: 3.1430e-04 - val_loss: 1.0798e-04\n",
            "Epoch 68/90\n",
            "13/13 [==============================] - 2s 173ms/step - loss: 3.2825e-04 - val_loss: 1.0668e-04\n",
            "Epoch 69/90\n",
            "13/13 [==============================] - 2s 172ms/step - loss: 3.2679e-04 - val_loss: 1.0388e-04\n",
            "Epoch 70/90\n",
            "13/13 [==============================] - 2s 175ms/step - loss: 3.6171e-04 - val_loss: 1.0539e-04\n",
            "Epoch 71/90\n",
            "13/13 [==============================] - 2s 175ms/step - loss: 3.2497e-04 - val_loss: 1.0922e-04\n",
            "Epoch 72/90\n",
            "13/13 [==============================] - 2s 174ms/step - loss: 3.4429e-04 - val_loss: 1.0353e-04\n",
            "Epoch 73/90\n",
            "13/13 [==============================] - 2s 176ms/step - loss: 3.6573e-04 - val_loss: 1.6672e-04\n",
            "Epoch 74/90\n",
            "13/13 [==============================] - 2s 173ms/step - loss: 3.3129e-04 - val_loss: 1.0297e-04\n",
            "Epoch 75/90\n",
            "13/13 [==============================] - 4s 291ms/step - loss: 3.0297e-04 - val_loss: 1.0131e-04\n",
            "Epoch 76/90\n",
            "13/13 [==============================] - 2s 176ms/step - loss: 3.4907e-04 - val_loss: 1.4729e-04\n",
            "Epoch 77/90\n",
            "13/13 [==============================] - 2s 173ms/step - loss: 3.3904e-04 - val_loss: 1.0273e-04\n",
            "Epoch 78/90\n",
            "13/13 [==============================] - 2s 174ms/step - loss: 3.4758e-04 - val_loss: 1.1035e-04\n",
            "Epoch 79/90\n",
            "13/13 [==============================] - 2s 176ms/step - loss: 3.6916e-04 - val_loss: 1.0095e-04\n",
            "Epoch 80/90\n",
            "13/13 [==============================] - 2s 174ms/step - loss: 3.2119e-04 - val_loss: 1.1015e-04\n",
            "Epoch 81/90\n",
            "13/13 [==============================] - 2s 173ms/step - loss: 3.3286e-04 - val_loss: 1.0282e-04\n",
            "Epoch 82/90\n",
            "13/13 [==============================] - 2s 175ms/step - loss: 3.2355e-04 - val_loss: 1.2499e-04\n",
            "Epoch 83/90\n",
            "13/13 [==============================] - 2s 172ms/step - loss: 3.2085e-04 - val_loss: 9.8421e-05\n",
            "Epoch 84/90\n",
            "13/13 [==============================] - 2s 174ms/step - loss: 3.6945e-04 - val_loss: 1.4109e-04\n",
            "Epoch 85/90\n",
            "13/13 [==============================] - 2s 171ms/step - loss: 3.8374e-04 - val_loss: 1.0573e-04\n",
            "Epoch 86/90\n",
            "13/13 [==============================] - 2s 173ms/step - loss: 3.5566e-04 - val_loss: 1.2288e-04\n",
            "Epoch 87/90\n",
            "13/13 [==============================] - 2s 174ms/step - loss: 2.9745e-04 - val_loss: 9.5883e-05\n",
            "Epoch 88/90\n",
            "13/13 [==============================] - 2s 175ms/step - loss: 2.8534e-04 - val_loss: 1.2127e-04\n",
            "Epoch 89/90\n",
            "13/13 [==============================] - 2s 173ms/step - loss: 3.2904e-04 - val_loss: 1.0803e-04\n",
            "Epoch 90/90\n",
            "13/13 [==============================] - 2s 173ms/step - loss: 3.2593e-04 - val_loss: 9.4788e-05\n"
          ]
        },
        {
          "output_type": "execute_result",
          "data": {
            "text/plain": [
              "<keras.callbacks.History at 0x7f410a23df50>"
            ]
          },
          "metadata": {},
          "execution_count": 23
        }
      ]
    },
    {
      "cell_type": "code",
      "source": [
        "import tensorflow as tf"
      ],
      "metadata": {
        "id": "sSUHDdHDG5Wu"
      },
      "execution_count": 24,
      "outputs": []
    },
    {
      "cell_type": "code",
      "source": [
        "tf.__version__\n"
      ],
      "metadata": {
        "colab": {
          "base_uri": "https://localhost:8080/",
          "height": 35
        },
        "id": "8Pdr1N9UG99Z",
        "outputId": "93cf1728-210e-42f0-9afb-e17b97571071"
      },
      "execution_count": 25,
      "outputs": [
        {
          "output_type": "execute_result",
          "data": {
            "application/vnd.google.colaboratory.intrinsic+json": {
              "type": "string"
            },
            "text/plain": [
              "'2.7.0'"
            ]
          },
          "metadata": {},
          "execution_count": 25
        }
      ]
    },
    {
      "cell_type": "code",
      "source": [
        "# Lets Do the prediction and check performance metrics\n",
        "train_predict=model.predict(X_train)\n",
        "test_predict=model.predict(X_test)"
      ],
      "metadata": {
        "id": "RlWtGJfTHLhN"
      },
      "execution_count": 26,
      "outputs": []
    },
    {
      "cell_type": "code",
      "source": [
        "##Transformback to original form\n",
        "train_predict=scaler.inverse_transform(train_predict)\n",
        "test_predict=scaler.inverse_transform(test_predict)\n"
      ],
      "metadata": {
        "id": "ZX4h7efpHS1V"
      },
      "execution_count": 27,
      "outputs": []
    },
    {
      "cell_type": "code",
      "source": [
        "# Calculate RMSE performance metrics\n",
        "import math\n",
        "from sklearn.metrics import mean_squared_error\n",
        "math.sqrt(mean_squared_error(y_train,train_predict))\n"
      ],
      "metadata": {
        "colab": {
          "base_uri": "https://localhost:8080/"
        },
        "id": "2REseAa2Haxe",
        "outputId": "bcb3102b-0b22-40e9-e452-7718a90c7ff1"
      },
      "execution_count": 28,
      "outputs": [
        {
          "output_type": "execute_result",
          "data": {
            "text/plain": [
              "213.34967968861807"
            ]
          },
          "metadata": {},
          "execution_count": 28
        }
      ]
    },
    {
      "cell_type": "code",
      "source": [
        "# Test Data RMSE\n",
        "math.sqrt(mean_squared_error(ytest,test_predict))\n"
      ],
      "metadata": {
        "colab": {
          "base_uri": "https://localhost:8080/"
        },
        "id": "jHChuMXBMYjK",
        "outputId": "bdb44cd8-481a-43ae-e2f3-8a3fe355f4b8"
      },
      "execution_count": 29,
      "outputs": [
        {
          "output_type": "execute_result",
          "data": {
            "text/plain": [
              "138.43252001730633"
            ]
          },
          "metadata": {},
          "execution_count": 29
        }
      ]
    },
    {
      "cell_type": "code",
      "source": [
        "# shift train predictions for plotting\n",
        "look_back=100\n",
        "trainPredictPlot = numpy.empty_like(df1)\n",
        "trainPredictPlot[:, :] = np.nan\n",
        "trainPredictPlot[look_back:len(train_predict)+look_back, :] = train_predict\n",
        "# shift test predictions for plotting\n",
        "testPredictPlot = numpy.empty_like(df1)\n",
        "testPredictPlot[:, :] = numpy.nan\n",
        "testPredictPlot[len(train_predict)+(look_back*2)+1:len(df1)-1, :] = test_predict\n",
        "# plot baseline and predictions\n",
        "plt.plot(scaler.inverse_transform(df1))\n",
        "plt.plot(trainPredictPlot)\n",
        "plt.plot(testPredictPlot)\n",
        "plt.show()"
      ],
      "metadata": {
        "colab": {
          "base_uri": "https://localhost:8080/",
          "height": 265
        },
        "id": "iT1404mSMo0k",
        "outputId": "8a8549d2-a8ad-4557-8fad-6c85f4e16928"
      },
      "execution_count": 30,
      "outputs": [
        {
          "output_type": "display_data",
          "data": {
            "image/png": "[encoded data removed]",
            "text/plain": [
              "<Figure size 432x288 with 1 Axes>"
            ]
          },
          "metadata": {
            "needs_background": "light"
          }
        }
      ]
    },
    {
      "cell_type": "code",
      "source": [
        "len(test_data)"
      ],
      "metadata": {
        "colab": {
          "base_uri": "https://localhost:8080/"
        },
        "id": "cSwL6M5HUTdn",
        "outputId": "600aaf12-67a5-47db-bd0a-1b1a836c02af"
      },
      "execution_count": 31,
      "outputs": [
        {
          "output_type": "execute_result",
          "data": {
            "text/plain": [
              "378"
            ]
          },
          "metadata": {},
          "execution_count": 31
        }
      ]
    },
    {
      "cell_type": "code",
      "source": [
        "x_input=test_data[278:].reshape(1,-1)\n",
        "x_input.shape\n"
      ],
      "metadata": {
        "colab": {
          "base_uri": "https://localhost:8080/"
        },
        "id": "PfHvjLhgUe9Q",
        "outputId": "24cc4d92-ffc2-476e-a804-1bc781cda134"
      },
      "execution_count": 32,
      "outputs": [
        {
          "output_type": "execute_result",
          "data": {
            "text/plain": [
              "(1, 100)"
            ]
          },
          "metadata": {},
          "execution_count": 32
        }
      ]
    },
    {
      "cell_type": "code",
      "source": [
        "temp_input=list(x_input)\n",
        "temp_input=temp_input[0].tolist()"
      ],
      "metadata": {
        "id": "Jp5D4dyUUtaC"
      },
      "execution_count": 33,
      "outputs": []
    },
    {
      "cell_type": "code",
      "source": [
        "temp_input\n"
      ],
      "metadata": {
        "colab": {
          "base_uri": "https://localhost:8080/"
        },
        "id": "sIndMjI7Uvho",
        "outputId": "44f69309-48f0-46eb-a98f-5ea7ec234c52"
      },
      "execution_count": 34,
      "outputs": [
        {
          "output_type": "execute_result",
          "data": {
            "text/plain": [
              "[0.10001252348152784,\n",
              " 0.0955291170945522,\n",
              " 0.09718221665623034,\n",
              " 0.0977332498434565,\n",
              " 0.09688165309956165,\n",
              " 0.10149029430181589,\n",
              " 0.10046336881653095,\n",
              " 0.10073888541014397,\n",
              " 0.09843456480901686,\n",
              " 0.0983093299937382,\n",
              " 0.09708202880400746,\n",
              " 0.0977332498434565,\n",
              " 0.10532247964934244,\n",
              " 0.10584846587351276,\n",
              " 0.11090795241077017,\n",
              " 0.10857858484658728,\n",
              " 0.09898559799624296,\n",
              " 0.09983719474013769,\n",
              " 0.10356919223544142,\n",
              " 0.10737633061991231,\n",
              " 0.10715090795241072,\n",
              " 0.10399499060738887,\n",
              " 0.101941139636819,\n",
              " 0.1045961177207263,\n",
              " 0.11591734502191609,\n",
              " 0.11268628678772696,\n",
              " 0.11438948027551654,\n",
              " 0.11724483406386971,\n",
              " 0.11887288666249218,\n",
              " 0.12485911083281148,\n",
              " 0.12090169067000628,\n",
              " 0.11829680651221036,\n",
              " 0.1055228553537883,\n",
              " 0.10697557921102063,\n",
              " 0.10339386349405133,\n",
              " 0.10567313713212267,\n",
              " 0.10507201001878513,\n",
              " 0.09823418910457105,\n",
              " 0.0904195366311834,\n",
              " 0.0916468378209142,\n",
              " 0.09770820288040072,\n",
              " 0.10016280525986221,\n",
              " 0.10038822792736374,\n",
              " 0.09650594865372569,\n",
              " 0.08783969943644326,\n",
              " 0.09014402003757044,\n",
              " 0.08681277395115838,\n",
              " 0.08969317470256727,\n",
              " 0.08090169067000619,\n",
              " 0.08583594239198494,\n",
              " 0.08806512210394485,\n",
              " 0.09129618033813391,\n",
              " 0.09031934877896053,\n",
              " 0.09009392611145894,\n",
              " 0.0868378209142141,\n",
              " 0.08533500313087033,\n",
              " 0.09247338760175322,\n",
              " 0.09517845961177201,\n",
              " 0.09946149029430179,\n",
              " 0.10499686912961798,\n",
              " 0.10624921728240444,\n",
              " 0.10680025046963049,\n",
              " 0.10482154038822789,\n",
              " 0.10469630557294918,\n",
              " 0.10639949906073881,\n",
              " 0.10522229179711956,\n",
              " 0.11453976205385091,\n",
              " 0.10760175328741389,\n",
              " 0.10549780839073258,\n",
              " 0.10815278647463994,\n",
              " 0.11183469004383217,\n",
              " 0.1105072010018785,\n",
              " 0.11130870381966185,\n",
              " 0.10920475892298054,\n",
              " 0.11013149655604254,\n",
              " 0.10289292423293667,\n",
              " 0.10276768941765807,\n",
              " 0.10807764558547273,\n",
              " 0.10810269254852845,\n",
              " 0.11060738885410137,\n",
              " 0.11684408265497809,\n",
              " 0.12781465247338758,\n",
              " 0.13452723857232307,\n",
              " 0.13570444583594238,\n",
              " 0.13668127739511576,\n",
              " 0.13800876643706944,\n",
              " 0.12515967438948022,\n",
              " 0.1337507827175955,\n",
              " 0.14642454602379462,\n",
              " 0.14509705698184094,\n",
              " 0.14256731371321218,\n",
              " 0.1377582968065122,\n",
              " 0.146474639949906,\n",
              " 0.1611521603005635,\n",
              " 0.17092047589229803,\n",
              " 0.16961803381340007,\n",
              " 0.18186599874765175,\n",
              " 0.17257357545397617,\n",
              " 0.16904195366311836,\n",
              " 0.1814902943018159]"
            ]
          },
          "metadata": {},
          "execution_count": 34
        }
      ]
    },
    {
      "cell_type": "code",
      "source": [
        "from numpy import array\n",
        "\n",
        "lst_output=[]\n",
        "n_steps=100\n",
        "i=0\n",
        "while(i<30):\n",
        "    \n",
        "    if(len(temp_input)>100):\n",
        "        #print(temp_input)\n",
        "        x_input=np.array(temp_input[1:])\n",
        "        print(\"{} day input {}\".format(i,x_input))\n",
        "        x_input=x_input.reshape(1,-1)\n",
        "        x_input = x_input.reshape((1, n_steps, 1))\n",
        "        #print(x_input)\n",
        "        yhat = model.predict(x_input, verbose=0)\n",
        "        print(\"{} day output {}\".format(i,yhat))\n",
        "        temp_input.extend(yhat[0].tolist())\n",
        "        temp_input=temp_input[1:]\n",
        "        #print(temp_input)\n",
        "        lst_output.extend(yhat.tolist())\n",
        "        i=i+1\n",
        "    else:\n",
        "        x_input = x_input.reshape((1, n_steps,1))\n",
        "        yhat = model.predict(x_input, verbose=0)\n",
        "        print(yhat[0])\n",
        "        temp_input.extend(yhat[0].tolist())\n",
        "        print(len(temp_input))\n",
        "        lst_output.extend(yhat.tolist())\n",
        "        i=i+1\n",
        "    \n",
        "\n",
        "print(lst_output)\n"
      ],
      "metadata": {
        "colab": {
          "base_uri": "https://localhost:8080/"
        },
        "id": "kn9jK2RtU41W",
        "outputId": "4edabe51-3071-4f4c-c903-7dbac51ae1c5"
      },
      "execution_count": 35,
      "outputs": [
        {
          "output_type": "stream",
          "name": "stdout",
          "text": [
            "[0.17482929]\n",
            "101\n",
            "1 day input [0.09552912 0.09718222 0.09773325 0.09688165 0.10149029 0.10046337\n",
            " 0.10073889 0.09843456 0.09830933 0.09708203 0.09773325 0.10532248\n",
            " 0.10584847 0.11090795 0.10857858 0.0989856  0.09983719 0.10356919\n",
            " 0.10737633 0.10715091 0.10399499 0.10194114 0.10459612 0.11591735\n",
            " 0.11268629 0.11438948 0.11724483 0.11887289 0.12485911 0.12090169\n",
            " 0.11829681 0.10552286 0.10697558 0.10339386 0.10567314 0.10507201\n",
            " 0.09823419 0.09041954 0.09164684 0.0977082  0.10016281 0.10038823\n",
            " 0.09650595 0.0878397  0.09014402 0.08681277 0.08969317 0.08090169\n",
            " 0.08583594 0.08806512 0.09129618 0.09031935 0.09009393 0.08683782\n",
            " 0.085335   0.09247339 0.09517846 0.09946149 0.10499687 0.10624922\n",
            " 0.10680025 0.10482154 0.10469631 0.1063995  0.10522229 0.11453976\n",
            " 0.10760175 0.10549781 0.10815279 0.11183469 0.1105072  0.1113087\n",
            " 0.10920476 0.1101315  0.10289292 0.10276769 0.10807765 0.10810269\n",
            " 0.11060739 0.11684408 0.12781465 0.13452724 0.13570445 0.13668128\n",
            " 0.13800877 0.12515967 0.13375078 0.14642455 0.14509706 0.14256731\n",
            " 0.1377583  0.14647464 0.16115216 0.17092048 0.16961803 0.181866\n",
            " 0.17257358 0.16904195 0.18149029 0.17482929]\n",
            "1 day output [[0.17781599]]\n",
            "2 day input [0.09718222 0.09773325 0.09688165 0.10149029 0.10046337 0.10073889\n",
            " 0.09843456 0.09830933 0.09708203 0.09773325 0.10532248 0.10584847\n",
            " 0.11090795 0.10857858 0.0989856  0.09983719 0.10356919 0.10737633\n",
            " 0.10715091 0.10399499 0.10194114 0.10459612 0.11591735 0.11268629\n",
            " 0.11438948 0.11724483 0.11887289 0.12485911 0.12090169 0.11829681\n",
            " 0.10552286 0.10697558 0.10339386 0.10567314 0.10507201 0.09823419\n",
            " 0.09041954 0.09164684 0.0977082  0.10016281 0.10038823 0.09650595\n",
            " 0.0878397  0.09014402 0.08681277 0.08969317 0.08090169 0.08583594\n",
            " 0.08806512 0.09129618 0.09031935 0.09009393 0.08683782 0.085335\n",
            " 0.09247339 0.09517846 0.09946149 0.10499687 0.10624922 0.10680025\n",
            " 0.10482154 0.10469631 0.1063995  0.10522229 0.11453976 0.10760175\n",
            " 0.10549781 0.10815279 0.11183469 0.1105072  0.1113087  0.10920476\n",
            " 0.1101315  0.10289292 0.10276769 0.10807765 0.10810269 0.11060739\n",
            " 0.11684408 0.12781465 0.13452724 0.13570445 0.13668128 0.13800877\n",
            " 0.12515967 0.13375078 0.14642455 0.14509706 0.14256731 0.1377583\n",
            " 0.14647464 0.16115216 0.17092048 0.16961803 0.181866   0.17257358\n",
            " 0.16904195 0.18149029 0.17482929 0.17781599]\n",
            "2 day output [[0.18006888]]\n",
            "3 day input [0.09773325 0.09688165 0.10149029 0.10046337 0.10073889 0.09843456\n",
            " 0.09830933 0.09708203 0.09773325 0.10532248 0.10584847 0.11090795\n",
            " 0.10857858 0.0989856  0.09983719 0.10356919 0.10737633 0.10715091\n",
            " 0.10399499 0.10194114 0.10459612 0.11591735 0.11268629 0.11438948\n",
            " 0.11724483 0.11887289 0.12485911 0.12090169 0.11829681 0.10552286\n",
            " 0.10697558 0.10339386 0.10567314 0.10507201 0.09823419 0.09041954\n",
            " 0.09164684 0.0977082  0.10016281 0.10038823 0.09650595 0.0878397\n",
            " 0.09014402 0.08681277 0.08969317 0.08090169 0.08583594 0.08806512\n",
            " 0.09129618 0.09031935 0.09009393 0.08683782 0.085335   0.09247339\n",
            " 0.09517846 0.09946149 0.10499687 0.10624922 0.10680025 0.10482154\n",
            " 0.10469631 0.1063995  0.10522229 0.11453976 0.10760175 0.10549781\n",
            " 0.10815279 0.11183469 0.1105072  0.1113087  0.10920476 0.1101315\n",
            " 0.10289292 0.10276769 0.10807765 0.10810269 0.11060739 0.11684408\n",
            " 0.12781465 0.13452724 0.13570445 0.13668128 0.13800877 0.12515967\n",
            " 0.13375078 0.14642455 0.14509706 0.14256731 0.1377583  0.14647464\n",
            " 0.16115216 0.17092048 0.16961803 0.181866   0.17257358 0.16904195\n",
            " 0.18149029 0.17482929 0.17781599 0.18006888]\n",
            "3 day output [[0.18182716]]\n",
            "4 day input [0.09688165 0.10149029 0.10046337 0.10073889 0.09843456 0.09830933\n",
            " 0.09708203 0.09773325 0.10532248 0.10584847 0.11090795 0.10857858\n",
            " 0.0989856  0.09983719 0.10356919 0.10737633 0.10715091 0.10399499\n",
            " 0.10194114 0.10459612 0.11591735 0.11268629 0.11438948 0.11724483\n",
            " 0.11887289 0.12485911 0.12090169 0.11829681 0.10552286 0.10697558\n",
            " 0.10339386 0.10567314 0.10507201 0.09823419 0.09041954 0.09164684\n",
            " 0.0977082  0.10016281 0.10038823 0.09650595 0.0878397  0.09014402\n",
            " 0.08681277 0.08969317 0.08090169 0.08583594 0.08806512 0.09129618\n",
            " 0.09031935 0.09009393 0.08683782 0.085335   0.09247339 0.09517846\n",
            " 0.09946149 0.10499687 0.10624922 0.10680025 0.10482154 0.10469631\n",
            " 0.1063995  0.10522229 0.11453976 0.10760175 0.10549781 0.10815279\n",
            " 0.11183469 0.1105072  0.1113087  0.10920476 0.1101315  0.10289292\n",
            " 0.10276769 0.10807765 0.10810269 0.11060739 0.11684408 0.12781465\n",
            " 0.13452724 0.13570445 0.13668128 0.13800877 0.12515967 0.13375078\n",
            " 0.14642455 0.14509706 0.14256731 0.1377583  0.14647464 0.16115216\n",
            " 0.17092048 0.16961803 0.181866   0.17257358 0.16904195 0.18149029\n",
            " 0.17482929 0.17781599 0.18006888 0.18182716]\n",
            "4 day output [[0.18329507]]\n",
            "5 day input [0.10149029 0.10046337 0.10073889 0.09843456 0.09830933 0.09708203\n",
            " 0.09773325 0.10532248 0.10584847 0.11090795 0.10857858 0.0989856\n",
            " 0.09983719 0.10356919 0.10737633 0.10715091 0.10399499 0.10194114\n",
            " 0.10459612 0.11591735 0.11268629 0.11438948 0.11724483 0.11887289\n",
            " 0.12485911 0.12090169 0.11829681 0.10552286 0.10697558 0.10339386\n",
            " 0.10567314 0.10507201 0.09823419 0.09041954 0.09164684 0.0977082\n",
            " 0.10016281 0.10038823 0.09650595 0.0878397  0.09014402 0.08681277\n",
            " 0.08969317 0.08090169 0.08583594 0.08806512 0.09129618 0.09031935\n",
            " 0.09009393 0.08683782 0.085335   0.09247339 0.09517846 0.09946149\n",
            " 0.10499687 0.10624922 0.10680025 0.10482154 0.10469631 0.1063995\n",
            " 0.10522229 0.11453976 0.10760175 0.10549781 0.10815279 0.11183469\n",
            " 0.1105072  0.1113087  0.10920476 0.1101315  0.10289292 0.10276769\n",
            " 0.10807765 0.10810269 0.11060739 0.11684408 0.12781465 0.13452724\n",
            " 0.13570445 0.13668128 0.13800877 0.12515967 0.13375078 0.14642455\n",
            " 0.14509706 0.14256731 0.1377583  0.14647464 0.16115216 0.17092048\n",
            " 0.16961803 0.181866   0.17257358 0.16904195 0.18149029 0.17482929\n",
            " 0.17781599 0.18006888 0.18182716 0.18329507]\n",
            "5 day output [[0.18460992]]\n",
            "6 day input [0.10046337 0.10073889 0.09843456 0.09830933 0.09708203 0.09773325\n",
            " 0.10532248 0.10584847 0.11090795 0.10857858 0.0989856  0.09983719\n",
            " 0.10356919 0.10737633 0.10715091 0.10399499 0.10194114 0.10459612\n",
            " 0.11591735 0.11268629 0.11438948 0.11724483 0.11887289 0.12485911\n",
            " 0.12090169 0.11829681 0.10552286 0.10697558 0.10339386 0.10567314\n",
            " 0.10507201 0.09823419 0.09041954 0.09164684 0.0977082  0.10016281\n",
            " 0.10038823 0.09650595 0.0878397  0.09014402 0.08681277 0.08969317\n",
            " 0.08090169 0.08583594 0.08806512 0.09129618 0.09031935 0.09009393\n",
            " 0.08683782 0.085335   0.09247339 0.09517846 0.09946149 0.10499687\n",
            " 0.10624922 0.10680025 0.10482154 0.10469631 0.1063995  0.10522229\n",
            " 0.11453976 0.10760175 0.10549781 0.10815279 0.11183469 0.1105072\n",
            " 0.1113087  0.10920476 0.1101315  0.10289292 0.10276769 0.10807765\n",
            " 0.10810269 0.11060739 0.11684408 0.12781465 0.13452724 0.13570445\n",
            " 0.13668128 0.13800877 0.12515967 0.13375078 0.14642455 0.14509706\n",
            " 0.14256731 0.1377583  0.14647464 0.16115216 0.17092048 0.16961803\n",
            " 0.181866   0.17257358 0.16904195 0.18149029 0.17482929 0.17781599\n",
            " 0.18006888 0.18182716 0.18329507 0.18460992]\n",
            "6 day output [[0.18585162]]\n",
            "7 day input [0.10073889 0.09843456 0.09830933 0.09708203 0.09773325 0.10532248\n",
            " 0.10584847 0.11090795 0.10857858 0.0989856  0.09983719 0.10356919\n",
            " 0.10737633 0.10715091 0.10399499 0.10194114 0.10459612 0.11591735\n",
            " 0.11268629 0.11438948 0.11724483 0.11887289 0.12485911 0.12090169\n",
            " 0.11829681 0.10552286 0.10697558 0.10339386 0.10567314 0.10507201\n",
            " 0.09823419 0.09041954 0.09164684 0.0977082  0.10016281 0.10038823\n",
            " 0.09650595 0.0878397  0.09014402 0.08681277 0.08969317 0.08090169\n",
            " 0.08583594 0.08806512 0.09129618 0.09031935 0.09009393 0.08683782\n",
            " 0.085335   0.09247339 0.09517846 0.09946149 0.10499687 0.10624922\n",
            " 0.10680025 0.10482154 0.10469631 0.1063995  0.10522229 0.11453976\n",
            " 0.10760175 0.10549781 0.10815279 0.11183469 0.1105072  0.1113087\n",
            " 0.10920476 0.1101315  0.10289292 0.10276769 0.10807765 0.10810269\n",
            " 0.11060739 0.11684408 0.12781465 0.13452724 0.13570445 0.13668128\n",
            " 0.13800877 0.12515967 0.13375078 0.14642455 0.14509706 0.14256731\n",
            " 0.1377583  0.14647464 0.16115216 0.17092048 0.16961803 0.181866\n",
            " 0.17257358 0.16904195 0.18149029 0.17482929 0.17781599 0.18006888\n",
            " 0.18182716 0.18329507 0.18460992 0.18585162]\n",
            "7 day output [[0.18706177]]\n",
            "8 day input [0.09843456 0.09830933 0.09708203 0.09773325 0.10532248 0.10584847\n",
            " 0.11090795 0.10857858 0.0989856  0.09983719 0.10356919 0.10737633\n",
            " 0.10715091 0.10399499 0.10194114 0.10459612 0.11591735 0.11268629\n",
            " 0.11438948 0.11724483 0.11887289 0.12485911 0.12090169 0.11829681\n",
            " 0.10552286 0.10697558 0.10339386 0.10567314 0.10507201 0.09823419\n",
            " 0.09041954 0.09164684 0.0977082  0.10016281 0.10038823 0.09650595\n",
            " 0.0878397  0.09014402 0.08681277 0.08969317 0.08090169 0.08583594\n",
            " 0.08806512 0.09129618 0.09031935 0.09009393 0.08683782 0.085335\n",
            " 0.09247339 0.09517846 0.09946149 0.10499687 0.10624922 0.10680025\n",
            " 0.10482154 0.10469631 0.1063995  0.10522229 0.11453976 0.10760175\n",
            " 0.10549781 0.10815279 0.11183469 0.1105072  0.1113087  0.10920476\n",
            " 0.1101315  0.10289292 0.10276769 0.10807765 0.10810269 0.11060739\n",
            " 0.11684408 0.12781465 0.13452724 0.13570445 0.13668128 0.13800877\n",
            " 0.12515967 0.13375078 0.14642455 0.14509706 0.14256731 0.1377583\n",
            " 0.14647464 0.16115216 0.17092048 0.16961803 0.181866   0.17257358\n",
            " 0.16904195 0.18149029 0.17482929 0.17781599 0.18006888 0.18182716\n",
            " 0.18329507 0.18460992 0.18585162 0.18706177]\n",
            "8 day output [[0.18826039]]\n",
            "9 day input [0.09830933 0.09708203 0.09773325 0.10532248 0.10584847 0.11090795\n",
            " 0.10857858 0.0989856  0.09983719 0.10356919 0.10737633 0.10715091\n",
            " 0.10399499 0.10194114 0.10459612 0.11591735 0.11268629 0.11438948\n",
            " 0.11724483 0.11887289 0.12485911 0.12090169 0.11829681 0.10552286\n",
            " 0.10697558 0.10339386 0.10567314 0.10507201 0.09823419 0.09041954\n",
            " 0.09164684 0.0977082  0.10016281 0.10038823 0.09650595 0.0878397\n",
            " 0.09014402 0.08681277 0.08969317 0.08090169 0.08583594 0.08806512\n",
            " 0.09129618 0.09031935 0.09009393 0.08683782 0.085335   0.09247339\n",
            " 0.09517846 0.09946149 0.10499687 0.10624922 0.10680025 0.10482154\n",
            " 0.10469631 0.1063995  0.10522229 0.11453976 0.10760175 0.10549781\n",
            " 0.10815279 0.11183469 0.1105072  0.1113087  0.10920476 0.1101315\n",
            " 0.10289292 0.10276769 0.10807765 0.10810269 0.11060739 0.11684408\n",
            " 0.12781465 0.13452724 0.13570445 0.13668128 0.13800877 0.12515967\n",
            " 0.13375078 0.14642455 0.14509706 0.14256731 0.1377583  0.14647464\n",
            " 0.16115216 0.17092048 0.16961803 0.181866   0.17257358 0.16904195\n",
            " 0.18149029 0.17482929 0.17781599 0.18006888 0.18182716 0.18329507\n",
            " 0.18460992 0.18585162 0.18706177 0.18826039]\n",
            "9 day output [[0.18945724]]\n",
            "10 day input [0.09708203 0.09773325 0.10532248 0.10584847 0.11090795 0.10857858\n",
            " 0.0989856  0.09983719 0.10356919 0.10737633 0.10715091 0.10399499\n",
            " 0.10194114 0.10459612 0.11591735 0.11268629 0.11438948 0.11724483\n",
            " 0.11887289 0.12485911 0.12090169 0.11829681 0.10552286 0.10697558\n",
            " 0.10339386 0.10567314 0.10507201 0.09823419 0.09041954 0.09164684\n",
            " 0.0977082  0.10016281 0.10038823 0.09650595 0.0878397  0.09014402\n",
            " 0.08681277 0.08969317 0.08090169 0.08583594 0.08806512 0.09129618\n",
            " 0.09031935 0.09009393 0.08683782 0.085335   0.09247339 0.09517846\n",
            " 0.09946149 0.10499687 0.10624922 0.10680025 0.10482154 0.10469631\n",
            " 0.1063995  0.10522229 0.11453976 0.10760175 0.10549781 0.10815279\n",
            " 0.11183469 0.1105072  0.1113087  0.10920476 0.1101315  0.10289292\n",
            " 0.10276769 0.10807765 0.10810269 0.11060739 0.11684408 0.12781465\n",
            " 0.13452724 0.13570445 0.13668128 0.13800877 0.12515967 0.13375078\n",
            " 0.14642455 0.14509706 0.14256731 0.1377583  0.14647464 0.16115216\n",
            " 0.17092048 0.16961803 0.181866   0.17257358 0.16904195 0.18149029\n",
            " 0.17482929 0.17781599 0.18006888 0.18182716 0.18329507 0.18460992\n",
            " 0.18585162 0.18706177 0.18826039 0.18945724]\n",
            "10 day output [[0.19065754]]\n",
            "11 day input [0.09773325 0.10532248 0.10584847 0.11090795 0.10857858 0.0989856\n",
            " 0.09983719 0.10356919 0.10737633 0.10715091 0.10399499 0.10194114\n",
            " 0.10459612 0.11591735 0.11268629 0.11438948 0.11724483 0.11887289\n",
            " 0.12485911 0.12090169 0.11829681 0.10552286 0.10697558 0.10339386\n",
            " 0.10567314 0.10507201 0.09823419 0.09041954 0.09164684 0.0977082\n",
            " 0.10016281 0.10038823 0.09650595 0.0878397  0.09014402 0.08681277\n",
            " 0.08969317 0.08090169 0.08583594 0.08806512 0.09129618 0.09031935\n",
            " 0.09009393 0.08683782 0.085335   0.09247339 0.09517846 0.09946149\n",
            " 0.10499687 0.10624922 0.10680025 0.10482154 0.10469631 0.1063995\n",
            " 0.10522229 0.11453976 0.10760175 0.10549781 0.10815279 0.11183469\n",
            " 0.1105072  0.1113087  0.10920476 0.1101315  0.10289292 0.10276769\n",
            " 0.10807765 0.10810269 0.11060739 0.11684408 0.12781465 0.13452724\n",
            " 0.13570445 0.13668128 0.13800877 0.12515967 0.13375078 0.14642455\n",
            " 0.14509706 0.14256731 0.1377583  0.14647464 0.16115216 0.17092048\n",
            " 0.16961803 0.181866   0.17257358 0.16904195 0.18149029 0.17482929\n",
            " 0.17781599 0.18006888 0.18182716 0.18329507 0.18460992 0.18585162\n",
            " 0.18706177 0.18826039 0.18945724 0.19065754]\n",
            "11 day output [[0.19186501]]\n",
            "12 day input [0.10532248 0.10584847 0.11090795 0.10857858 0.0989856  0.09983719\n",
            " 0.10356919 0.10737633 0.10715091 0.10399499 0.10194114 0.10459612\n",
            " 0.11591735 0.11268629 0.11438948 0.11724483 0.11887289 0.12485911\n",
            " 0.12090169 0.11829681 0.10552286 0.10697558 0.10339386 0.10567314\n",
            " 0.10507201 0.09823419 0.09041954 0.09164684 0.0977082  0.10016281\n",
            " 0.10038823 0.09650595 0.0878397  0.09014402 0.08681277 0.08969317\n",
            " 0.08090169 0.08583594 0.08806512 0.09129618 0.09031935 0.09009393\n",
            " 0.08683782 0.085335   0.09247339 0.09517846 0.09946149 0.10499687\n",
            " 0.10624922 0.10680025 0.10482154 0.10469631 0.1063995  0.10522229\n",
            " 0.11453976 0.10760175 0.10549781 0.10815279 0.11183469 0.1105072\n",
            " 0.1113087  0.10920476 0.1101315  0.10289292 0.10276769 0.10807765\n",
            " 0.10810269 0.11060739 0.11684408 0.12781465 0.13452724 0.13570445\n",
            " 0.13668128 0.13800877 0.12515967 0.13375078 0.14642455 0.14509706\n",
            " 0.14256731 0.1377583  0.14647464 0.16115216 0.17092048 0.16961803\n",
            " 0.181866   0.17257358 0.16904195 0.18149029 0.17482929 0.17781599\n",
            " 0.18006888 0.18182716 0.18329507 0.18460992 0.18585162 0.18706177\n",
            " 0.18826039 0.18945724 0.19065754 0.19186501]\n",
            "12 day output [[0.19308323]]\n",
            "13 day input [0.10584847 0.11090795 0.10857858 0.0989856  0.09983719 0.10356919\n",
            " 0.10737633 0.10715091 0.10399499 0.10194114 0.10459612 0.11591735\n",
            " 0.11268629 0.11438948 0.11724483 0.11887289 0.12485911 0.12090169\n",
            " 0.11829681 0.10552286 0.10697558 0.10339386 0.10567314 0.10507201\n",
            " 0.09823419 0.09041954 0.09164684 0.0977082  0.10016281 0.10038823\n",
            " 0.09650595 0.0878397  0.09014402 0.08681277 0.08969317 0.08090169\n",
            " 0.08583594 0.08806512 0.09129618 0.09031935 0.09009393 0.08683782\n",
            " 0.085335   0.09247339 0.09517846 0.09946149 0.10499687 0.10624922\n",
            " 0.10680025 0.10482154 0.10469631 0.1063995  0.10522229 0.11453976\n",
            " 0.10760175 0.10549781 0.10815279 0.11183469 0.1105072  0.1113087\n",
            " 0.10920476 0.1101315  0.10289292 0.10276769 0.10807765 0.10810269\n",
            " 0.11060739 0.11684408 0.12781465 0.13452724 0.13570445 0.13668128\n",
            " 0.13800877 0.12515967 0.13375078 0.14642455 0.14509706 0.14256731\n",
            " 0.1377583  0.14647464 0.16115216 0.17092048 0.16961803 0.181866\n",
            " 0.17257358 0.16904195 0.18149029 0.17482929 0.17781599 0.18006888\n",
            " 0.18182716 0.18329507 0.18460992 0.18585162 0.18706177 0.18826039\n",
            " 0.18945724 0.19065754 0.19186501 0.19308323]\n",
            "13 day output [[0.19431522]]\n",
            "14 day input [0.11090795 0.10857858 0.0989856  0.09983719 0.10356919 0.10737633\n",
            " 0.10715091 0.10399499 0.10194114 0.10459612 0.11591735 0.11268629\n",
            " 0.11438948 0.11724483 0.11887289 0.12485911 0.12090169 0.11829681\n",
            " 0.10552286 0.10697558 0.10339386 0.10567314 0.10507201 0.09823419\n",
            " 0.09041954 0.09164684 0.0977082  0.10016281 0.10038823 0.09650595\n",
            " 0.0878397  0.09014402 0.08681277 0.08969317 0.08090169 0.08583594\n",
            " 0.08806512 0.09129618 0.09031935 0.09009393 0.08683782 0.085335\n",
            " 0.09247339 0.09517846 0.09946149 0.10499687 0.10624922 0.10680025\n",
            " 0.10482154 0.10469631 0.1063995  0.10522229 0.11453976 0.10760175\n",
            " 0.10549781 0.10815279 0.11183469 0.1105072  0.1113087  0.10920476\n",
            " 0.1101315  0.10289292 0.10276769 0.10807765 0.10810269 0.11060739\n",
            " 0.11684408 0.12781465 0.13452724 0.13570445 0.13668128 0.13800877\n",
            " 0.12515967 0.13375078 0.14642455 0.14509706 0.14256731 0.1377583\n",
            " 0.14647464 0.16115216 0.17092048 0.16961803 0.181866   0.17257358\n",
            " 0.16904195 0.18149029 0.17482929 0.17781599 0.18006888 0.18182716\n",
            " 0.18329507 0.18460992 0.18585162 0.18706177 0.18826039 0.18945724\n",
            " 0.19065754 0.19186501 0.19308323 0.19431522]\n",
            "14 day output [[0.19556397]]\n",
            "15 day input [0.10857858 0.0989856  0.09983719 0.10356919 0.10737633 0.10715091\n",
            " 0.10399499 0.10194114 0.10459612 0.11591735 0.11268629 0.11438948\n",
            " 0.11724483 0.11887289 0.12485911 0.12090169 0.11829681 0.10552286\n",
            " 0.10697558 0.10339386 0.10567314 0.10507201 0.09823419 0.09041954\n",
            " 0.09164684 0.0977082  0.10016281 0.10038823 0.09650595 0.0878397\n",
            " 0.09014402 0.08681277 0.08969317 0.08090169 0.08583594 0.08806512\n",
            " 0.09129618 0.09031935 0.09009393 0.08683782 0.085335   0.09247339\n",
            " 0.09517846 0.09946149 0.10499687 0.10624922 0.10680025 0.10482154\n",
            " 0.10469631 0.1063995  0.10522229 0.11453976 0.10760175 0.10549781\n",
            " 0.10815279 0.11183469 0.1105072  0.1113087  0.10920476 0.1101315\n",
            " 0.10289292 0.10276769 0.10807765 0.10810269 0.11060739 0.11684408\n",
            " 0.12781465 0.13452724 0.13570445 0.13668128 0.13800877 0.12515967\n",
            " 0.13375078 0.14642455 0.14509706 0.14256731 0.1377583  0.14647464\n",
            " 0.16115216 0.17092048 0.16961803 0.181866   0.17257358 0.16904195\n",
            " 0.18149029 0.17482929 0.17781599 0.18006888 0.18182716 0.18329507\n",
            " 0.18460992 0.18585162 0.18706177 0.18826039 0.18945724 0.19065754\n",
            " 0.19186501 0.19308323 0.19431522 0.19556397]\n",
            "15 day output [[0.1968321]]\n",
            "16 day input [0.0989856  0.09983719 0.10356919 0.10737633 0.10715091 0.10399499\n",
            " 0.10194114 0.10459612 0.11591735 0.11268629 0.11438948 0.11724483\n",
            " 0.11887289 0.12485911 0.12090169 0.11829681 0.10552286 0.10697558\n",
            " 0.10339386 0.10567314 0.10507201 0.09823419 0.09041954 0.09164684\n",
            " 0.0977082  0.10016281 0.10038823 0.09650595 0.0878397  0.09014402\n",
            " 0.08681277 0.08969317 0.08090169 0.08583594 0.08806512 0.09129618\n",
            " 0.09031935 0.09009393 0.08683782 0.085335   0.09247339 0.09517846\n",
            " 0.09946149 0.10499687 0.10624922 0.10680025 0.10482154 0.10469631\n",
            " 0.1063995  0.10522229 0.11453976 0.10760175 0.10549781 0.10815279\n",
            " 0.11183469 0.1105072  0.1113087  0.10920476 0.1101315  0.10289292\n",
            " 0.10276769 0.10807765 0.10810269 0.11060739 0.11684408 0.12781465\n",
            " 0.13452724 0.13570445 0.13668128 0.13800877 0.12515967 0.13375078\n",
            " 0.14642455 0.14509706 0.14256731 0.1377583  0.14647464 0.16115216\n",
            " 0.17092048 0.16961803 0.181866   0.17257358 0.16904195 0.18149029\n",
            " 0.17482929 0.17781599 0.18006888 0.18182716 0.18329507 0.18460992\n",
            " 0.18585162 0.18706177 0.18826039 0.18945724 0.19065754 0.19186501\n",
            " 0.19308323 0.19431522 0.19556397 0.19683211]\n",
            "16 day output [[0.19812162]]\n",
            "17 day input [0.09983719 0.10356919 0.10737633 0.10715091 0.10399499 0.10194114\n",
            " 0.10459612 0.11591735 0.11268629 0.11438948 0.11724483 0.11887289\n",
            " 0.12485911 0.12090169 0.11829681 0.10552286 0.10697558 0.10339386\n",
            " 0.10567314 0.10507201 0.09823419 0.09041954 0.09164684 0.0977082\n",
            " 0.10016281 0.10038823 0.09650595 0.0878397  0.09014402 0.08681277\n",
            " 0.08969317 0.08090169 0.08583594 0.08806512 0.09129618 0.09031935\n",
            " 0.09009393 0.08683782 0.085335   0.09247339 0.09517846 0.09946149\n",
            " 0.10499687 0.10624922 0.10680025 0.10482154 0.10469631 0.1063995\n",
            " 0.10522229 0.11453976 0.10760175 0.10549781 0.10815279 0.11183469\n",
            " 0.1105072  0.1113087  0.10920476 0.1101315  0.10289292 0.10276769\n",
            " 0.10807765 0.10810269 0.11060739 0.11684408 0.12781465 0.13452724\n",
            " 0.13570445 0.13668128 0.13800877 0.12515967 0.13375078 0.14642455\n",
            " 0.14509706 0.14256731 0.1377583  0.14647464 0.16115216 0.17092048\n",
            " 0.16961803 0.181866   0.17257358 0.16904195 0.18149029 0.17482929\n",
            " 0.17781599 0.18006888 0.18182716 0.18329507 0.18460992 0.18585162\n",
            " 0.18706177 0.18826039 0.18945724 0.19065754 0.19186501 0.19308323\n",
            " 0.19431522 0.19556397 0.19683211 0.19812162]\n",
            "17 day output [[0.19943433]]\n",
            "18 day input [0.10356919 0.10737633 0.10715091 0.10399499 0.10194114 0.10459612\n",
            " 0.11591735 0.11268629 0.11438948 0.11724483 0.11887289 0.12485911\n",
            " 0.12090169 0.11829681 0.10552286 0.10697558 0.10339386 0.10567314\n",
            " 0.10507201 0.09823419 0.09041954 0.09164684 0.0977082  0.10016281\n",
            " 0.10038823 0.09650595 0.0878397  0.09014402 0.08681277 0.08969317\n",
            " 0.08090169 0.08583594 0.08806512 0.09129618 0.09031935 0.09009393\n",
            " 0.08683782 0.085335   0.09247339 0.09517846 0.09946149 0.10499687\n",
            " 0.10624922 0.10680025 0.10482154 0.10469631 0.1063995  0.10522229\n",
            " 0.11453976 0.10760175 0.10549781 0.10815279 0.11183469 0.1105072\n",
            " 0.1113087  0.10920476 0.1101315  0.10289292 0.10276769 0.10807765\n",
            " 0.10810269 0.11060739 0.11684408 0.12781465 0.13452724 0.13570445\n",
            " 0.13668128 0.13800877 0.12515967 0.13375078 0.14642455 0.14509706\n",
            " 0.14256731 0.1377583  0.14647464 0.16115216 0.17092048 0.16961803\n",
            " 0.181866   0.17257358 0.16904195 0.18149029 0.17482929 0.17781599\n",
            " 0.18006888 0.18182716 0.18329507 0.18460992 0.18585162 0.18706177\n",
            " 0.18826039 0.18945724 0.19065754 0.19186501 0.19308323 0.19431522\n",
            " 0.19556397 0.19683211 0.19812162 0.19943433]\n",
            "18 day output [[0.20077138]]\n",
            "19 day input [0.10737633 0.10715091 0.10399499 0.10194114 0.10459612 0.11591735\n",
            " 0.11268629 0.11438948 0.11724483 0.11887289 0.12485911 0.12090169\n",
            " 0.11829681 0.10552286 0.10697558 0.10339386 0.10567314 0.10507201\n",
            " 0.09823419 0.09041954 0.09164684 0.0977082  0.10016281 0.10038823\n",
            " 0.09650595 0.0878397  0.09014402 0.08681277 0.08969317 0.08090169\n",
            " 0.08583594 0.08806512 0.09129618 0.09031935 0.09009393 0.08683782\n",
            " 0.085335   0.09247339 0.09517846 0.09946149 0.10499687 0.10624922\n",
            " 0.10680025 0.10482154 0.10469631 0.1063995  0.10522229 0.11453976\n",
            " 0.10760175 0.10549781 0.10815279 0.11183469 0.1105072  0.1113087\n",
            " 0.10920476 0.1101315  0.10289292 0.10276769 0.10807765 0.10810269\n",
            " 0.11060739 0.11684408 0.12781465 0.13452724 0.13570445 0.13668128\n",
            " 0.13800877 0.12515967 0.13375078 0.14642455 0.14509706 0.14256731\n",
            " 0.1377583  0.14647464 0.16115216 0.17092048 0.16961803 0.181866\n",
            " 0.17257358 0.16904195 0.18149029 0.17482929 0.17781599 0.18006888\n",
            " 0.18182716 0.18329507 0.18460992 0.18585162 0.18706177 0.18826039\n",
            " 0.18945724 0.19065754 0.19186501 0.19308323 0.19431522 0.19556397\n",
            " 0.19683211 0.19812162 0.19943433 0.20077138]\n",
            "19 day output [[0.20213374]]\n",
            "20 day input [0.10715091 0.10399499 0.10194114 0.10459612 0.11591735 0.11268629\n",
            " 0.11438948 0.11724483 0.11887289 0.12485911 0.12090169 0.11829681\n",
            " 0.10552286 0.10697558 0.10339386 0.10567314 0.10507201 0.09823419\n",
            " 0.09041954 0.09164684 0.0977082  0.10016281 0.10038823 0.09650595\n",
            " 0.0878397  0.09014402 0.08681277 0.08969317 0.08090169 0.08583594\n",
            " 0.08806512 0.09129618 0.09031935 0.09009393 0.08683782 0.085335\n",
            " 0.09247339 0.09517846 0.09946149 0.10499687 0.10624922 0.10680025\n",
            " 0.10482154 0.10469631 0.1063995  0.10522229 0.11453976 0.10760175\n",
            " 0.10549781 0.10815279 0.11183469 0.1105072  0.1113087  0.10920476\n",
            " 0.1101315  0.10289292 0.10276769 0.10807765 0.10810269 0.11060739\n",
            " 0.11684408 0.12781465 0.13452724 0.13570445 0.13668128 0.13800877\n",
            " 0.12515967 0.13375078 0.14642455 0.14509706 0.14256731 0.1377583\n",
            " 0.14647464 0.16115216 0.17092048 0.16961803 0.181866   0.17257358\n",
            " 0.16904195 0.18149029 0.17482929 0.17781599 0.18006888 0.18182716\n",
            " 0.18329507 0.18460992 0.18585162 0.18706177 0.18826039 0.18945724\n",
            " 0.19065754 0.19186501 0.19308323 0.19431522 0.19556397 0.19683211\n",
            " 0.19812162 0.19943433 0.20077138 0.20213374]\n",
            "20 day output [[0.203522]]\n",
            "21 day input [0.10399499 0.10194114 0.10459612 0.11591735 0.11268629 0.11438948\n",
            " 0.11724483 0.11887289 0.12485911 0.12090169 0.11829681 0.10552286\n",
            " 0.10697558 0.10339386 0.10567314 0.10507201 0.09823419 0.09041954\n",
            " 0.09164684 0.0977082  0.10016281 0.10038823 0.09650595 0.0878397\n",
            " 0.09014402 0.08681277 0.08969317 0.08090169 0.08583594 0.08806512\n",
            " 0.09129618 0.09031935 0.09009393 0.08683782 0.085335   0.09247339\n",
            " 0.09517846 0.09946149 0.10499687 0.10624922 0.10680025 0.10482154\n",
            " 0.10469631 0.1063995  0.10522229 0.11453976 0.10760175 0.10549781\n",
            " 0.10815279 0.11183469 0.1105072  0.1113087  0.10920476 0.1101315\n",
            " 0.10289292 0.10276769 0.10807765 0.10810269 0.11060739 0.11684408\n",
            " 0.12781465 0.13452724 0.13570445 0.13668128 0.13800877 0.12515967\n",
            " 0.13375078 0.14642455 0.14509706 0.14256731 0.1377583  0.14647464\n",
            " 0.16115216 0.17092048 0.16961803 0.181866   0.17257358 0.16904195\n",
            " 0.18149029 0.17482929 0.17781599 0.18006888 0.18182716 0.18329507\n",
            " 0.18460992 0.18585162 0.18706177 0.18826039 0.18945724 0.19065754\n",
            " 0.19186501 0.19308323 0.19431522 0.19556397 0.19683211 0.19812162\n",
            " 0.19943433 0.20077138 0.20213374 0.203522  ]\n",
            "21 day output [[0.2049364]]\n",
            "22 day input [0.10194114 0.10459612 0.11591735 0.11268629 0.11438948 0.11724483\n",
            " 0.11887289 0.12485911 0.12090169 0.11829681 0.10552286 0.10697558\n",
            " 0.10339386 0.10567314 0.10507201 0.09823419 0.09041954 0.09164684\n",
            " 0.0977082  0.10016281 0.10038823 0.09650595 0.0878397  0.09014402\n",
            " 0.08681277 0.08969317 0.08090169 0.08583594 0.08806512 0.09129618\n",
            " 0.09031935 0.09009393 0.08683782 0.085335   0.09247339 0.09517846\n",
            " 0.09946149 0.10499687 0.10624922 0.10680025 0.10482154 0.10469631\n",
            " 0.1063995  0.10522229 0.11453976 0.10760175 0.10549781 0.10815279\n",
            " 0.11183469 0.1105072  0.1113087  0.10920476 0.1101315  0.10289292\n",
            " 0.10276769 0.10807765 0.10810269 0.11060739 0.11684408 0.12781465\n",
            " 0.13452724 0.13570445 0.13668128 0.13800877 0.12515967 0.13375078\n",
            " 0.14642455 0.14509706 0.14256731 0.1377583  0.14647464 0.16115216\n",
            " 0.17092048 0.16961803 0.181866   0.17257358 0.16904195 0.18149029\n",
            " 0.17482929 0.17781599 0.18006888 0.18182716 0.18329507 0.18460992\n",
            " 0.18585162 0.18706177 0.18826039 0.18945724 0.19065754 0.19186501\n",
            " 0.19308323 0.19431522 0.19556397 0.19683211 0.19812162 0.19943433\n",
            " 0.20077138 0.20213374 0.203522   0.2049364 ]\n",
            "22 day output [[0.20637725]]\n",
            "23 day input [0.10459612 0.11591735 0.11268629 0.11438948 0.11724483 0.11887289\n",
            " 0.12485911 0.12090169 0.11829681 0.10552286 0.10697558 0.10339386\n",
            " 0.10567314 0.10507201 0.09823419 0.09041954 0.09164684 0.0977082\n",
            " 0.10016281 0.10038823 0.09650595 0.0878397  0.09014402 0.08681277\n",
            " 0.08969317 0.08090169 0.08583594 0.08806512 0.09129618 0.09031935\n",
            " 0.09009393 0.08683782 0.085335   0.09247339 0.09517846 0.09946149\n",
            " 0.10499687 0.10624922 0.10680025 0.10482154 0.10469631 0.1063995\n",
            " 0.10522229 0.11453976 0.10760175 0.10549781 0.10815279 0.11183469\n",
            " 0.1105072  0.1113087  0.10920476 0.1101315  0.10289292 0.10276769\n",
            " 0.10807765 0.10810269 0.11060739 0.11684408 0.12781465 0.13452724\n",
            " 0.13570445 0.13668128 0.13800877 0.12515967 0.13375078 0.14642455\n",
            " 0.14509706 0.14256731 0.1377583  0.14647464 0.16115216 0.17092048\n",
            " 0.16961803 0.181866   0.17257358 0.16904195 0.18149029 0.17482929\n",
            " 0.17781599 0.18006888 0.18182716 0.18329507 0.18460992 0.18585162\n",
            " 0.18706177 0.18826039 0.18945724 0.19065754 0.19186501 0.19308323\n",
            " 0.19431522 0.19556397 0.19683211 0.19812162 0.19943433 0.20077138\n",
            " 0.20213374 0.203522   0.2049364  0.20637725]\n",
            "23 day output [[0.2078445]]\n",
            "24 day input [0.11591735 0.11268629 0.11438948 0.11724483 0.11887289 0.12485911\n",
            " 0.12090169 0.11829681 0.10552286 0.10697558 0.10339386 0.10567314\n",
            " 0.10507201 0.09823419 0.09041954 0.09164684 0.0977082  0.10016281\n",
            " 0.10038823 0.09650595 0.0878397  0.09014402 0.08681277 0.08969317\n",
            " 0.08090169 0.08583594 0.08806512 0.09129618 0.09031935 0.09009393\n",
            " 0.08683782 0.085335   0.09247339 0.09517846 0.09946149 0.10499687\n",
            " 0.10624922 0.10680025 0.10482154 0.10469631 0.1063995  0.10522229\n",
            " 0.11453976 0.10760175 0.10549781 0.10815279 0.11183469 0.1105072\n",
            " 0.1113087  0.10920476 0.1101315  0.10289292 0.10276769 0.10807765\n",
            " 0.10810269 0.11060739 0.11684408 0.12781465 0.13452724 0.13570445\n",
            " 0.13668128 0.13800877 0.12515967 0.13375078 0.14642455 0.14509706\n",
            " 0.14256731 0.1377583  0.14647464 0.16115216 0.17092048 0.16961803\n",
            " 0.181866   0.17257358 0.16904195 0.18149029 0.17482929 0.17781599\n",
            " 0.18006888 0.18182716 0.18329507 0.18460992 0.18585162 0.18706177\n",
            " 0.18826039 0.18945724 0.19065754 0.19186501 0.19308323 0.19431522\n",
            " 0.19556397 0.19683211 0.19812162 0.19943433 0.20077138 0.20213374\n",
            " 0.203522   0.2049364  0.20637725 0.2078445 ]\n",
            "24 day output [[0.209338]]\n",
            "25 day input [0.11268629 0.11438948 0.11724483 0.11887289 0.12485911 0.12090169\n",
            " 0.11829681 0.10552286 0.10697558 0.10339386 0.10567314 0.10507201\n",
            " 0.09823419 0.09041954 0.09164684 0.0977082  0.10016281 0.10038823\n",
            " 0.09650595 0.0878397  0.09014402 0.08681277 0.08969317 0.08090169\n",
            " 0.08583594 0.08806512 0.09129618 0.09031935 0.09009393 0.08683782\n",
            " 0.085335   0.09247339 0.09517846 0.09946149 0.10499687 0.10624922\n",
            " 0.10680025 0.10482154 0.10469631 0.1063995  0.10522229 0.11453976\n",
            " 0.10760175 0.10549781 0.10815279 0.11183469 0.1105072  0.1113087\n",
            " 0.10920476 0.1101315  0.10289292 0.10276769 0.10807765 0.10810269\n",
            " 0.11060739 0.11684408 0.12781465 0.13452724 0.13570445 0.13668128\n",
            " 0.13800877 0.12515967 0.13375078 0.14642455 0.14509706 0.14256731\n",
            " 0.1377583  0.14647464 0.16115216 0.17092048 0.16961803 0.181866\n",
            " 0.17257358 0.16904195 0.18149029 0.17482929 0.17781599 0.18006888\n",
            " 0.18182716 0.18329507 0.18460992 0.18585162 0.18706177 0.18826039\n",
            " 0.18945724 0.19065754 0.19186501 0.19308323 0.19431522 0.19556397\n",
            " 0.19683211 0.19812162 0.19943433 0.20077138 0.20213374 0.203522\n",
            " 0.2049364  0.20637725 0.2078445  0.20933799]\n",
            "25 day output [[0.21085766]]\n",
            "26 day input [0.11438948 0.11724483 0.11887289 0.12485911 0.12090169 0.11829681\n",
            " 0.10552286 0.10697558 0.10339386 0.10567314 0.10507201 0.09823419\n",
            " 0.09041954 0.09164684 0.0977082  0.10016281 0.10038823 0.09650595\n",
            " 0.0878397  0.09014402 0.08681277 0.08969317 0.08090169 0.08583594\n",
            " 0.08806512 0.09129618 0.09031935 0.09009393 0.08683782 0.085335\n",
            " 0.09247339 0.09517846 0.09946149 0.10499687 0.10624922 0.10680025\n",
            " 0.10482154 0.10469631 0.1063995  0.10522229 0.11453976 0.10760175\n",
            " 0.10549781 0.10815279 0.11183469 0.1105072  0.1113087  0.10920476\n",
            " 0.1101315  0.10289292 0.10276769 0.10807765 0.10810269 0.11060739\n",
            " 0.11684408 0.12781465 0.13452724 0.13570445 0.13668128 0.13800877\n",
            " 0.12515967 0.13375078 0.14642455 0.14509706 0.14256731 0.1377583\n",
            " 0.14647464 0.16115216 0.17092048 0.16961803 0.181866   0.17257358\n",
            " 0.16904195 0.18149029 0.17482929 0.17781599 0.18006888 0.18182716\n",
            " 0.18329507 0.18460992 0.18585162 0.18706177 0.18826039 0.18945724\n",
            " 0.19065754 0.19186501 0.19308323 0.19431522 0.19556397 0.19683211\n",
            " 0.19812162 0.19943433 0.20077138 0.20213374 0.203522   0.2049364\n",
            " 0.20637725 0.2078445  0.20933799 0.21085766]\n",
            "26 day output [[0.21240334]]\n",
            "27 day input [0.11724483 0.11887289 0.12485911 0.12090169 0.11829681 0.10552286\n",
            " 0.10697558 0.10339386 0.10567314 0.10507201 0.09823419 0.09041954\n",
            " 0.09164684 0.0977082  0.10016281 0.10038823 0.09650595 0.0878397\n",
            " 0.09014402 0.08681277 0.08969317 0.08090169 0.08583594 0.08806512\n",
            " 0.09129618 0.09031935 0.09009393 0.08683782 0.085335   0.09247339\n",
            " 0.09517846 0.09946149 0.10499687 0.10624922 0.10680025 0.10482154\n",
            " 0.10469631 0.1063995  0.10522229 0.11453976 0.10760175 0.10549781\n",
            " 0.10815279 0.11183469 0.1105072  0.1113087  0.10920476 0.1101315\n",
            " 0.10289292 0.10276769 0.10807765 0.10810269 0.11060739 0.11684408\n",
            " 0.12781465 0.13452724 0.13570445 0.13668128 0.13800877 0.12515967\n",
            " 0.13375078 0.14642455 0.14509706 0.14256731 0.1377583  0.14647464\n",
            " 0.16115216 0.17092048 0.16961803 0.181866   0.17257358 0.16904195\n",
            " 0.18149029 0.17482929 0.17781599 0.18006888 0.18182716 0.18329507\n",
            " 0.18460992 0.18585162 0.18706177 0.18826039 0.18945724 0.19065754\n",
            " 0.19186501 0.19308323 0.19431522 0.19556397 0.19683211 0.19812162\n",
            " 0.19943433 0.20077138 0.20213374 0.203522   0.2049364  0.20637725\n",
            " 0.2078445  0.20933799 0.21085766 0.21240334]\n",
            "27 day output [[0.21397473]]\n",
            "28 day input [0.11887289 0.12485911 0.12090169 0.11829681 0.10552286 0.10697558\n",
            " 0.10339386 0.10567314 0.10507201 0.09823419 0.09041954 0.09164684\n",
            " 0.0977082  0.10016281 0.10038823 0.09650595 0.0878397  0.09014402\n",
            " 0.08681277 0.08969317 0.08090169 0.08583594 0.08806512 0.09129618\n",
            " 0.09031935 0.09009393 0.08683782 0.085335   0.09247339 0.09517846\n",
            " 0.09946149 0.10499687 0.10624922 0.10680025 0.10482154 0.10469631\n",
            " 0.1063995  0.10522229 0.11453976 0.10760175 0.10549781 0.10815279\n",
            " 0.11183469 0.1105072  0.1113087  0.10920476 0.1101315  0.10289292\n",
            " 0.10276769 0.10807765 0.10810269 0.11060739 0.11684408 0.12781465\n",
            " 0.13452724 0.13570445 0.13668128 0.13800877 0.12515967 0.13375078\n",
            " 0.14642455 0.14509706 0.14256731 0.1377583  0.14647464 0.16115216\n",
            " 0.17092048 0.16961803 0.181866   0.17257358 0.16904195 0.18149029\n",
            " 0.17482929 0.17781599 0.18006888 0.18182716 0.18329507 0.18460992\n",
            " 0.18585162 0.18706177 0.18826039 0.18945724 0.19065754 0.19186501\n",
            " 0.19308323 0.19431522 0.19556397 0.19683211 0.19812162 0.19943433\n",
            " 0.20077138 0.20213374 0.203522   0.2049364  0.20637725 0.2078445\n",
            " 0.20933799 0.21085766 0.21240334 0.21397473]\n",
            "28 day output [[0.21557167]]\n",
            "29 day input [0.12485911 0.12090169 0.11829681 0.10552286 0.10697558 0.10339386\n",
            " 0.10567314 0.10507201 0.09823419 0.09041954 0.09164684 0.0977082\n",
            " 0.10016281 0.10038823 0.09650595 0.0878397  0.09014402 0.08681277\n",
            " 0.08969317 0.08090169 0.08583594 0.08806512 0.09129618 0.09031935\n",
            " 0.09009393 0.08683782 0.085335   0.09247339 0.09517846 0.09946149\n",
            " 0.10499687 0.10624922 0.10680025 0.10482154 0.10469631 0.1063995\n",
            " 0.10522229 0.11453976 0.10760175 0.10549781 0.10815279 0.11183469\n",
            " 0.1105072  0.1113087  0.10920476 0.1101315  0.10289292 0.10276769\n",
            " 0.10807765 0.10810269 0.11060739 0.11684408 0.12781465 0.13452724\n",
            " 0.13570445 0.13668128 0.13800877 0.12515967 0.13375078 0.14642455\n",
            " 0.14509706 0.14256731 0.1377583  0.14647464 0.16115216 0.17092048\n",
            " 0.16961803 0.181866   0.17257358 0.16904195 0.18149029 0.17482929\n",
            " 0.17781599 0.18006888 0.18182716 0.18329507 0.18460992 0.18585162\n",
            " 0.18706177 0.18826039 0.18945724 0.19065754 0.19186501 0.19308323\n",
            " 0.19431522 0.19556397 0.19683211 0.19812162 0.19943433 0.20077138\n",
            " 0.20213374 0.203522   0.2049364  0.20637725 0.2078445  0.20933799\n",
            " 0.21085766 0.21240334 0.21397473 0.21557167]\n",
            "29 day output [[0.21719399]]\n",
            "[[0.17482928931713104], [0.1778159886598587], [0.18006888031959534], [0.18182715773582458], [0.18329507112503052], [0.18460991978645325], [0.18585161864757538], [0.18706177175045013], [0.18826039135456085], [0.1894572377204895], [0.19065754115581512], [0.191865012049675], [0.19308322668075562], [0.19431522488594055], [0.19556397199630737], [0.1968321055173874], [0.19812162220478058], [0.1994343250989914], [0.20077137649059296], [0.20213374495506287], [0.2035219967365265], [0.20493640005588531], [0.20637725293636322], [0.20784449577331543], [0.2093379944562912], [0.21085765957832336], [0.2124033421278], [0.213974729180336], [0.21557167172431946], [0.21719399094581604]]\n"
          ]
        }
      ]
    },
    {
      "cell_type": "code",
      "source": [
        "day_new=np.arange(1,101)\n",
        "day_pred=np.arange(101,131)\n"
      ],
      "metadata": {
        "id": "sHekCMAgVIL0"
      },
      "execution_count": 36,
      "outputs": []
    },
    {
      "cell_type": "code",
      "source": [
        "len(df1)"
      ],
      "metadata": {
        "colab": {
          "base_uri": "https://localhost:8080/"
        },
        "id": "HHs2KpUBVtrf",
        "outputId": "1ba87d38-0eb3-4a6d-a1d1-ee2e299efe34"
      },
      "execution_count": 40,
      "outputs": [
        {
          "output_type": "execute_result",
          "data": {
            "text/plain": [
              "1257"
            ]
          },
          "metadata": {},
          "execution_count": 40
        }
      ]
    },
    {
      "cell_type": "code",
      "source": [
        "import matplotlib.pyplot as plt\n",
        "plt.plot(day_new,scaler.inverse_transform(df1[1157:]))\n",
        "plt.plot(day_pred,scaler.inverse_transform(lst_output))"
      ],
      "metadata": {
        "colab": {
          "base_uri": "https://localhost:8080/",
          "height": 282
        },
        "id": "GX2yoZ7YVZZT",
        "outputId": "3a43c92b-f753-4911-8280-f624842446e8"
      },
      "execution_count": 41,
      "outputs": [
        {
          "output_type": "execute_result",
          "data": {
            "text/plain": [
              "[<matplotlib.lines.Line2D at 0x7f4106b89c50>]"
            ]
          },
          "metadata": {},
          "execution_count": 41
        },
        {
          "output_type": "display_data",
          "data": {
            "image/png": "[encoded data removed]",
            "text/plain": [
              "<Figure size 432x288 with 1 Axes>"
            ]
          },
          "metadata": {
            "needs_background": "light"
          }
        }
      ]
    },
    {
      "cell_type": "code",
      "source": [
        "df3=df1.tolist()\n",
        "df3.extend(lst_output)\n",
        "plt.plot(df3[1200:])"
      ],
      "metadata": {
        "colab": {
          "base_uri": "https://localhost:8080/",
          "height": 282
        },
        "id": "yIn2TObHV-5a",
        "outputId": "c5da3c8b-bf35-4d72-8acc-59b14d520e55"
      },
      "execution_count": 42,
      "outputs": [
        {
          "output_type": "execute_result",
          "data": {
            "text/plain": [
              "[<matplotlib.lines.Line2D at 0x7f4106a96dd0>]"
            ]
          },
          "metadata": {},
          "execution_count": 42
        },
        {
          "output_type": "display_data",
          "data": {
            "image/png": "[encoded data removed]",
            "text/plain": [
              "<Figure size 432x288 with 1 Axes>"
            ]
          },
          "metadata": {
            "needs_background": "light"
          }
        }
      ]
    },
    {
      "cell_type": "code",
      "source": [
        "df3=scaler.inverse_transform(df3).tolist()\n",
        "plt.plot(df3)"
      ],
      "metadata": {
        "colab": {
          "base_uri": "https://localhost:8080/",
          "height": 282
        },
        "id": "AVGuXskbWE8R",
        "outputId": "dd104dcf-305c-4350-dc4b-1bc00dccc264"
      },
      "execution_count": 43,
      "outputs": [
        {
          "output_type": "execute_result",
          "data": {
            "text/plain": [
              "[<matplotlib.lines.Line2D at 0x7f41067de190>]"
            ]
          },
          "metadata": {},
          "execution_count": 43
        },
        {
          "output_type": "display_data",
          "data": {
            "image/png": "[encoded data removed]",
            "text/plain": [
              "<Figure size 432x288 with 1 Axes>"
            ]
          },
          "metadata": {
            "needs_background": "light"
          }
        }
      ]
    }
  ]
}